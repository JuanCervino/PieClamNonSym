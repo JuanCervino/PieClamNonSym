version https://git-lfs.github.com/spec/v1
oid sha256:f2e3ab93b2b79e9e398259473d4421cc5828261b9f163a99e693fbef5db55a8b
size 476486
