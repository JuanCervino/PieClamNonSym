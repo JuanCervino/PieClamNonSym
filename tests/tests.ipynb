{
 "cells": [
  {
   "cell_type": "code",
   "execution_count": null,
   "metadata": {},
   "outputs": [],
   "source": [
    "import sys\n",
    "if '..' not in sys.path:\n",
    "    sys.path.insert(0, '..')\n",
    "\n",
    "%load_ext autoreload\n",
    "%autoreload 2"
   ]
  },
  {
   "cell_type": "code",
   "execution_count": null,
   "metadata": {},
   "outputs": [],
   "source": [
    "import torch\n",
    "from torch_geometric.data import Data\n",
    "import matplotlib.pyplot as plt\n",
    "from torch_geometric import utils\n",
    "import sys\n",
    "\n",
    "if '..' not in sys.path:\n",
    "    sys.path.insert(0, '..')\n",
    "\n",
    "from utils.plotting import plot_graph_with_omitted\n",
    "import utils.link_prediction as lp\n",
    "\n",
    "\n",
    "data = Data(edge_index=torch.tensor([[0, 0, 1, 3, 3, 5, 5],\n",
    "                                     [5, 4, 5, 2, 5, 2, 4]]))\n",
    "\n",
    "data.edge_attr = torch.tensor([1,1,1,1,1, 1,1]).bool()\n",
    "\n",
    "data.edge_index, data.edge_attr = utils.to_undirected(data.edge_index, data.edge_attr)\n",
    "\n",
    "#? TEST that dyad omittion makes sense for all attrs 1 (when omitting test)\n",
    "#todo: make get_dyads_to_omit handle sampling rate of 0\n",
    "dyads_to_omit_test = lp.get_dyads_to_omit(data.edge_index, data.edge_attr, p_sample_edge=0.0)\n",
    "data_omitted1 = Data(edge_index=dyads_to_omit_test[2], edge_attr=dyads_to_omit_test[3])\n",
    "\n",
    "print('omitted edges', dyads_to_omit_test[0])\n",
    "print('omitted non edges', dyads_to_omit_test[1])\n",
    "print('new_edge_index', data_omitted1.edge_index)\n",
    "print('new_edge_attr', data_omitted1.edge_attr)\n",
    "\n",
    "pos = plot_graph_with_omitted(data)\n",
    "plot_graph_with_omitted(data_omitted1, pos)\n",
    "\n",
    "#? TESTED that dyads omittiion makes sense for when the edge index has omitted dyads.\n",
    "dyads_to_omit_val = lp.get_dyads_to_omit(data_omitted1.edge_index, data_omitted1.edge_attr, p_sample_edge=0.0)\n",
    "data_omitted2 = Data(edge_index=dyads_to_omit_val[2], edge_attr=dyads_to_omit_val[3])\n",
    "\n",
    "print('omitted edges', dyads_to_omit_val[0])\n",
    "print('omitted non edges', dyads_to_omit_val[1])\n",
    "print('new_edge_index', data_omitted2.edge_index)\n",
    "print('new_edge_attr', data_omitted2.edge_attr)\n",
    "\n",
    "plot_graph_with_omitted(data_omitted2, pos)\n",
    "#? TEST\n"
   ]
  }
 ],
 "metadata": {
  "kernelspec": {
   "display_name": "pieclam",
   "language": "python",
   "name": "python3"
  },
  "language_info": {
   "codemirror_mode": {
    "name": "ipython",
    "version": 3
   },
   "file_extension": ".py",
   "mimetype": "text/x-python",
   "name": "python",
   "nbconvert_exporter": "python",
   "pygments_lexer": "ipython3",
   "version": "3.11.5"
  }
 },
 "nbformat": 4,
 "nbformat_minor": 2
}
