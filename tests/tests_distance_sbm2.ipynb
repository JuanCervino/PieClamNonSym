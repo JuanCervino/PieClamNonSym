version https://git-lfs.github.com/spec/v1
oid sha256:433cd8f5f2178a845e6ec325f08278c3d9efa40e0ffe1d3d587b5dc662d8a23e
size 31513
