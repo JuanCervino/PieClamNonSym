{
 "cells": [
  {
   "cell_type": "code",
   "execution_count": 1,
   "metadata": {},
   "outputs": [
    {
     "name": "stdout",
     "output_type": "stream",
     "text": [
      "Using device: cuda\n"
     ]
    }
   ],
   "source": [
    "# load the model from the file \"sbm3x3_pclam_roc_0.210_auc_0.860\"\n",
    "import torch\n",
    "from torch_geometric.transforms import TwoHop\n",
    "\n",
    "import sys\n",
    "if '..' not in sys.path:\n",
    "    sys.path.insert(0, '..')\n",
    "\n",
    "from datasets.import_dataset import import_dataset\n",
    "from utils.plotting import *\n",
    "from trainer import Trainer\n",
    "device = torch.device(\"cuda\" if torch.cuda.is_available() else \"cpu\")\n",
    "print('Using device:', device)\n",
    "cpu = torch.device(\"cpu\")\n",
    "\n",
    "%load_ext autoreload\n",
    "%autoreload 2\n"
   ]
  },
  {
   "cell_type": "code",
   "execution_count": 2,
   "metadata": {},
   "outputs": [
    {
     "name": "stderr",
     "output_type": "stream",
     "text": [
      "/home/user/Documents/danny/AAAI_pieclam/experiments/../datasets/import_dataset.py:410: UserWarning: Creating a tensor from a list of numpy.ndarrays is extremely slow. Please consider converting the list to a single numpy.ndarray with numpy.array() before converting to a tensor. (Triggered internally at /opt/conda/conda-bld/pytorch_1711403378171/work/torch/csrc/utils/tensor_new.cpp:275.)\n",
      "  edge_index = torch.tensor(adj.nonzero(), dtype=torch.long)\n",
      "/home/user/anaconda3/envs/piegam/lib/python3.11/site-packages/torch_geometric/edge_index.py:784: UserWarning: Sparse CSR tensor support is in beta state. If you miss a functionality in the sparse tensor support, please submit a feature request to https://github.com/pytorch/pytorch/issues. (Triggered internally at /opt/conda/conda-bld/pytorch_1711403378171/work/aten/src/ATen/SparseCsrTensorImpl.cpp:53.)\n",
      "  return torch.sparse_csr_tensor(\n"
     ]
    }
   ],
   "source": [
    "\n",
    "model_names = ['piegam', 'iegam', 'pclam', 'bigclam']\n",
    "ds_names = ['ellipticGGAD', 'redditGGAD', 'photoGGAD']\n",
    "\n",
    "for ds_name in ds_names:    \n",
    "    ds = import_dataset(ds_name)\n",
    "    \n",
    "    if ds_name in ['Flickr', 'ACM', 'BlogCatalog']:\n",
    "        ds_to_use = ds\n",
    "    elif ds_name in ['redditGGAD', 'photoGGAD', 'ellipticGGAD']:\n",
    "        fat_ds = TwoHop()(ds)\n",
    "        fat_ds.edge_attr = torch.ones(fat_ds.edge_index.shape[1]).bool()\n",
    "        ds_to_use = fat_ds\n",
    "    else:\n",
    "        raise ValueError('ds_name not recognized')\n",
    "\n",
    "    losseses = []\n",
    "    acc_testses = []\n",
    "    acc_valses = []\n",
    "    \n",
    "    for model_name in model_names:\n",
    "        '''change some of the configs manually e.g. \n",
    "        config_triplets = [['feat_opt', 'n_iter', 1000], ['prior_opt, 'lr', 0.0001], ...]'''\n",
    "        config_triplets = []\n",
    "\n",
    "        trainer_anomaly = Trainer(\n",
    "            model_name=model_name,\n",
    "            device=device,\n",
    "            dataset=ds_to_use.clone(),\n",
    "            attr_opt=True,\n",
    "            task='anomaly',\n",
    "            mighty_configs_dict=False,\n",
    "            config_triplets_to_change=config_triplets\n",
    "        )\n",
    "\n",
    "        losses, acc_test, acc_val = trainer_anomaly.train(\n",
    "            init_type='small_gaus',\n",
    "            init_feats=True,\n",
    "            acc_every=20,\n",
    "            plot_every=-1,\n",
    "            verbose=True,\n",
    "            verbose_in_funcs=False\n",
    "        )\n",
    "        losseses.append(losses)\n",
    "        acc_testses.append(acc_test)\n",
    "        acc_valses.append(acc_val)\n",
    "        \n",
    "        if trainer_anomaly.clamiter.prior is not None:\n",
    "            del trainer_anomaly.clamiter.prior.model\n",
    "        del trainer_anomaly.data\n",
    "        torch.cuda.empty_cache()\n",
    "\n",
    "    del ds\n",
    "    del fat_ds\n",
    "    torch.cuda.empty_cache()\n",
    "\n"
   ]
  }
 ],
 "metadata": {
  "kernelspec": {
   "display_name": "piegam",
   "language": "python",
   "name": "python3"
  },
  "language_info": {
   "codemirror_mode": {
    "name": "ipython",
    "version": 3
   },
   "file_extension": ".py",
   "mimetype": "text/x-python",
   "name": "python",
   "nbconvert_exporter": "python",
   "pygments_lexer": "ipython3",
   "version": "3.11.5"
  }
 },
 "nbformat": 4,
 "nbformat_minor": 2
}
