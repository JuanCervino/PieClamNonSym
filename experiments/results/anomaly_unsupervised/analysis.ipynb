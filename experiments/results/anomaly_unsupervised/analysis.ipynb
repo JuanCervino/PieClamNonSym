{
 "cells": [
  {
   "cell_type": "code",
   "execution_count": null,
   "metadata": {},
   "outputs": [],
   "source": [
    "import os\n",
    "import pandas as pd\n",
    "import sys\n",
    "if '..' not in sys.path:\n",
    "    sys.path.insert(0, '..')\n",
    "\n",
    "if '../..' not in sys.path:\n",
    "    sys.path.insert(0, '../..')\n",
    "\n",
    "\n",
    "import optimization_utils as ou\n",
    "\n",
    "def print_folder(folder_path, sort_by='prior_star'):\n",
    "    '''print all json files in a folder path'''\n",
    "    for file_name in os.listdir(folder_path):\n",
    "        if file_name.endswith('.json'):\n",
    "            file_path = os.path.join(folder_path, file_name)\n",
    "            grouped_df = ou.SaveRun.load_saved(\n",
    "                    'anomaly_unsupervised', \n",
    "                    file_path, \n",
    "                    sort_by=sort_by)\n",
    "            print(file_name + '\\n==================\\n')\n",
    "            print(grouped_df.head(10))\n",
    "    #todo: add an option to combine together all of the grouped df, calculate the combined std and average etc.\n",
    "\n",
    "\n",
    "\n",
    "\n",
    "%load_ext autoreload\n",
    "%autoreload 2"
   ]
  },
  {
   "cell_type": "code",
   "execution_count": null,
   "metadata": {},
   "outputs": [],
   "source": [
    "\n",
    "#todo: print with the correct accuracy names.\n",
    "\n",
    "print('pieclam elliptic:')\n",
    "\n",
    "print_folder('pieclam/elliptic', sort_by='prior')"
   ]
  }
 ],
 "metadata": {
  "kernelspec": {
   "display_name": "piegam",
   "language": "python",
   "name": "python3"
  },
  "language_info": {
   "codemirror_mode": {
    "name": "ipython",
    "version": 3
   },
   "file_extension": ".py",
   "mimetype": "text/x-python",
   "name": "python",
   "nbconvert_exporter": "python",
   "pygments_lexer": "ipython3",
   "version": "3.11.5"
  }
 },
 "nbformat": 4,
 "nbformat_minor": 2
}
