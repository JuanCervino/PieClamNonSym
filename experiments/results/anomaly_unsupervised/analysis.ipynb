{
 "cells": [
  {
   "cell_type": "code",
   "execution_count": null,
   "metadata": {},
   "outputs": [],
   "source": [
    "import os\n",
    "import pandas as pd\n",
    "import sys\n",
    "if '..' not in sys.path:\n",
    "    sys.path.insert(0, '..')\n",
    "\n",
    "if '../..' not in sys.path:\n",
    "    sys.path.insert(0, '../..')\n",
    "\n",
    "\n",
    "import optimization_utils as ou\n",
    "\n",
    "\n",
    "#todo: remake this and the distance files to be able to print the results LOOK AT HOW ITS SUPPOSED TO BE BEFORE RUNNING!!!!!\n",
    "#todo: maybe i dont need to print those results maybe it's ok with the jupyter\n",
    "#TODO; DISTANCE\n",
    "\n",
    "#TODO: TEST ALL LINK PREDICTIONS\n",
    "\n",
    "\n",
    "\n",
    "%load_ext autoreload\n",
    "%autoreload 2"
   ]
  },
  {
   "cell_type": "code",
   "execution_count": null,
   "metadata": {},
   "outputs": [],
   "source": [
    "#todo: print with the correct accuracy names.\n",
    "#THE ONE I'M WORKING ON\n",
    "#todo: the acc configs should contain the results of the 3 datasets for each config\n",
    "print('ieclam photo :')\n",
    "\n",
    "ou.print_folder(model_name='ieclam',\n",
    "                ds_name='photo', \n",
    "                task='anomaly_unsupervised',\n",
    "                sort_by='prior')"
   ]
  },
  {
   "cell_type": "code",
   "execution_count": null,
   "metadata": {},
   "outputs": [],
   "source": [
    "\n",
    "#todo: print with the correct accuracy names.\n",
    "\n",
    "print('pieclam elliptic:')\n",
    "\n",
    "ou.print_folder(model_name='pieclam',\n",
    "                ds_name='elliptic', \n",
    "                sort_by='prior')"
   ]
  }
 ],
 "metadata": {
  "kernelspec": {
   "display_name": "pyg",
   "language": "python",
   "name": "python3"
  },
  "language_info": {
   "codemirror_mode": {
    "name": "ipython",
    "version": 3
   },
   "file_extension": ".py",
   "mimetype": "text/x-python",
   "name": "python",
   "nbconvert_exporter": "python",
   "pygments_lexer": "ipython3",
   "version": "3.10.13"
  }
 },
 "nbformat": 4,
 "nbformat_minor": 2
}
