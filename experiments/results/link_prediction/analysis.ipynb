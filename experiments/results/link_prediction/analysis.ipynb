{
 "cells": [
  {
   "cell_type": "markdown",
   "metadata": {},
   "source": [
    "### Analysis\n",
    "\n",
    "The data is stored in the acc_configs.json files. \n",
    "acc_config.json files contain a header which is the datetime, parameter ranges and base configuration. it then contains a list of all experiment results (acc_test, acc_val) and the config delta. \n",
    "\n",
    "The file has raw results. The function ou.SaveRun.load_saved function loads each file and collects experiments with the same config. It then calculates mean and std for the val and test scores and puts everything in a table."
   ]
  },
  {
   "cell_type": "code",
   "execution_count": null,
   "metadata": {},
   "outputs": [],
   "source": [
    "import os\n",
    "import pandas as pd\n",
    "import sys\n",
    "if '..' not in sys.path:\n",
    "    sys.path.insert(0, '..')\n",
    "\n",
    "if '../..' not in sys.path:\n",
    "    sys.path.insert(0, '../..')\n",
    "\n",
    "\n",
    "import optimization_utils as ou\n",
    "\n",
    "def print_folder(folder_path, sort_by = 'val_acc'):\n",
    "    '''print all json files in a folder path'''\n",
    "    for file_name in os.listdir(folder_path):\n",
    "        if file_name.endswith('.json'):\n",
    "            file_path = os.path.join(folder_path, file_name)\n",
    "            grouped_df = ou.SaveRun.load_saved(\n",
    "                'link_prediction',\n",
    "                file_path, \n",
    "                sort_by=sort_by)\n",
    "            print(file_name + '\\n==================\\n')\n",
    "            print(grouped_df.head(10))\n",
    "    #todo: add an option to combine together all of the grouped df, calculate the combined std and average etc.\n",
    "\n",
    "\n",
    "\n",
    "\n",
    "%load_ext autoreload\n",
    "%autoreload 2\n"
   ]
  },
  {
   "cell_type": "code",
   "execution_count": null,
   "metadata": {},
   "outputs": [],
   "source": [
    "# print('photo ieclam:')\n",
    "\n",
    "# print_folder('link_prediction/photo/ieclam')\n",
    "\n",
    "print('photo bigclam:')\n",
    "\n",
    "print_folder('photo/bigclam')\n",
    "\n",
    "# print('photo pieclam:')\n",
    "\n",
    "# print_folder('link_prediction/photo/pieclam')\n",
    "\n",
    "print('photo pclam:')\n",
    "\n",
    "print_folder('photo/pclam')\n",
    "\n"
   ]
  },
  {
   "cell_type": "code",
   "execution_count": null,
   "metadata": {},
   "outputs": [],
   "source": [
    "# print('texas bigclam:\\n=============\\n')\n",
    "# print_folder('link_prediction/texas/bigclam')\n",
    "\n",
    "# print('texas ieclam:\\n=============\\n')\n",
    "# print_folder('link_prediction/texas/ieclam')\n",
    "\n",
    "# print('texas pclam:\\n=============\\n')\n",
    "# print_folder('link_prediction/texas/pclam')\n",
    "\n",
    "print('texas pieclam:\\n=============\\n')\n",
    "print_folder('texas/pieclam', sort_by='val_acc')\n",
    "\n",
    "\n"
   ]
  },
  {
   "cell_type": "code",
   "execution_count": null,
   "metadata": {},
   "outputs": [],
   "source": []
  },
  {
   "cell_type": "markdown",
   "metadata": {},
   "source": [
    "## Hopkins"
   ]
  },
  {
   "cell_type": "code",
   "execution_count": null,
   "metadata": {},
   "outputs": [],
   "source": [
    "# print('hopkins bigclam:\\n=============\\n')\n",
    "# print_folder('link_prediction/JohnsHopkins55/bigclam')\n",
    "\n",
    "# print('hopkins ieclam:\\n=============\\n')\n",
    "# print_folder('link_prediction/JohnsHopkins55/ieclam')\n",
    "\n",
    "print('hopkins pclam:\\n=============\\n')\n",
    "print_folder('link_prediction/JohnsHopkins55/pclam')\n",
    "\n",
    "# print('hopkins pieclam:\\n=============\\n')\n",
    "# print_folder('link_prediction/JohnsHopkins55/pieclam')"
   ]
  },
  {
   "cell_type": "code",
   "execution_count": null,
   "metadata": {},
   "outputs": [],
   "source": [
    "print('squirrel bigclam:\\n=============\\n')\n",
    "print_folder('link_prediction/squirrel/bigclam')\n",
    "\n",
    "# print('squirrel ieclam:\\n=============\\n')\n",
    "# print_folder('link_prediction/squirrel/ieclam')\n",
    "\n",
    "# print('squirrel pclam:\\n=============\\n')\n",
    "# print_folder('link_prediction/squirrel/pclam')\n",
    "\n",
    "print('squirrel pieclam:\\n=============\\n')\n",
    "print_folder('link_prediction/squirrel/pieclam')"
   ]
  }
 ],
 "metadata": {
  "kernelspec": {
   "display_name": "piegam",
   "language": "python",
   "name": "python3"
  },
  "language_info": {
   "codemirror_mode": {
    "name": "ipython",
    "version": 3
   },
   "file_extension": ".py",
   "mimetype": "text/x-python",
   "name": "python",
   "nbconvert_exporter": "python",
   "pygments_lexer": "ipython3",
   "version": "3.11.5"
  }
 },
 "nbformat": 4,
 "nbformat_minor": 2
}
