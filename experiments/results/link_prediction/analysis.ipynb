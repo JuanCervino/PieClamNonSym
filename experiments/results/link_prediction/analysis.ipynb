{
 "cells": [
  {
   "cell_type": "markdown",
   "metadata": {},
   "source": [
    "### Analysis\n",
    "\n",
    "The data is stored in the acc_configs.json files. \n",
    "acc_config.json files contain a header which is the datetime, parameter ranges and base configuration. it then contains a list of all experiment results (acc_test, acc_val) and the config delta. \n",
    "\n",
    "The file has raw results. The function ou.SaveRun.load_saved function loads each file and collects experiments with the same config. It then calculates mean and std for the val and test scores and puts everything in a table."
   ]
  },
  {
   "cell_type": "code",
   "execution_count": null,
   "metadata": {},
   "outputs": [],
   "source": [
    "import os\n",
    "import pandas as pd\n",
    "import sys\n",
    "import json\n",
    "\n",
    "if '..' not in sys.path:\n",
    "    sys.path.insert(0, '..')\n",
    "if '../..' not in sys.path:\n",
    "    sys.path.insert(0, '../..')\n",
    "\n",
    "import optimization_utils as ou\n",
    "\n",
    "\n",
    "%load_ext autoreload\n",
    "%autoreload 2"
   ]
  },
  {
   "cell_type": "code",
   "execution_count": null,
   "metadata": {},
   "outputs": [],
   "source": [
    "#todo: now need to change the folder structurefor all of the datasets so that the "
   ]
  },
  {
   "cell_type": "markdown",
   "metadata": {},
   "source": [
    "# Texas"
   ]
  },
  {
   "cell_type": "code",
   "execution_count": null,
   "metadata": {},
   "outputs": [],
   "source": [
    "# TEXAS IECLAM RESULTS\n",
    "\n",
    "means = [0.837644, 0.8165, 0.815273, 0.811891, 0.806262, 0.802958, 0.796607, 0.792302, 0.7845, 0.774867]\n",
    "stds  = [0.017478, 0.023178, 0.046788, 0.021475, 0.041561, 0.027001, 0.024205, 0.022828, 0.029294, 0.054156]\n",
    "pooled_mean, pooled_std = ou.pooled_mean_std(means, stds)\n",
    "print(f'pooled mean: {pooled_mean}, pooled std: {pooled_std}')\n"
   ]
  },
  {
   "cell_type": "code",
   "execution_count": null,
   "metadata": {},
   "outputs": [],
   "source": [
    "#todo: add option in print folder to see a date range\n",
    "#todo: add option to unify all stats\n",
    "# to analyze the results fu\n",
    "print('texas ieclam\\n')\n",
    "ou.print_folder(ds_name='texas',\n",
    "             model_name='ieclam', \n",
    "             metric='auc', \n",
    "             test_or_valid='test',\n",
    "             print_base_config=False,\n",
    "             from_date=None)\n"
   ]
  },
  {
   "cell_type": "code",
   "execution_count": null,
   "metadata": {},
   "outputs": [],
   "source": [
    "print('texas pieclam\\n')\n",
    "ou.print_folder(ds_name='texas',\n",
    "             model_name='pieclam', \n",
    "             metric='auc', \n",
    "             test_or_valid='test',\n",
    "             print_base_config=False,\n",
    "             from_date='10-05-25')"
   ]
  },
  {
   "cell_type": "code",
   "execution_count": null,
   "metadata": {},
   "outputs": [],
   "source": [
    "print('texas bigclam\\n')\n",
    "ou.print_folder(ds_name='texas',\n",
    "             model_name='bigclam', \n",
    "             metric='auc', \n",
    "             test_or_valid='valid')"
   ]
  },
  {
   "cell_type": "markdown",
   "metadata": {},
   "source": [
    "# OBGL-DDI"
   ]
  },
  {
   "cell_type": "code",
   "execution_count": null,
   "metadata": {},
   "outputs": [],
   "source": [
    "\n",
    "\n",
    "print('ogbl-ddi pieclam')\n",
    "ou.print_folder(ds_name = 'ogbl-ddi',\n",
    "                model_name='ieclam', \n",
    "                metric='ogb_hAk',\n",
    "                test_or_valid='test')"
   ]
  },
  {
   "cell_type": "code",
   "execution_count": null,
   "metadata": {},
   "outputs": [],
   "source": [
    "print('ogbl-ddi pieclam')\n",
    "ou.print_folder(ds_name = 'ogbl-ddi',\n",
    "                model_name='bigclam', \n",
    "                metric='auc',\n",
    "                test_or_valid='valid',\n",
    "                num_to_plot=-1)"
   ]
  },
  {
   "cell_type": "markdown",
   "metadata": {},
   "source": [
    "# Photo"
   ]
  },
  {
   "cell_type": "code",
   "execution_count": null,
   "metadata": {},
   "outputs": [],
   "source": [
    "print('photo pclam')\n",
    "ou.print_folder(ds_name='photo',\n",
    "                model_name='pclam',\n",
    "                metric='auc',\n",
    "                test_or_valid='valid',\n",
    "                num_to_plot=-1)"
   ]
  },
  {
   "cell_type": "code",
   "execution_count": null,
   "metadata": {},
   "outputs": [],
   "source": [
    "print('photo bigclam')\n",
    "ou.print_folder(ds_name='photo',\n",
    "                model_name='bigclam',\n",
    "                metric='auc',\n",
    "                test_or_valid='valid',\n",
    "                num_to_plot=-1)"
   ]
  },
  {
   "cell_type": "markdown",
   "metadata": {},
   "source": [
    "# Squirrel"
   ]
  },
  {
   "cell_type": "code",
   "execution_count": null,
   "metadata": {},
   "outputs": [],
   "source": [
    "print('squirrel pieclam')\n",
    "ou.print_folder(ds_name='squirrel',\n",
    "                model_name='pieclam',\n",
    "                metric='auc',\n",
    "                test_or_valid='valid',\n",
    "                num_to_plot=-1)"
   ]
  },
  {
   "cell_type": "markdown",
   "metadata": {},
   "source": [
    "# Hopkins"
   ]
  },
  {
   "cell_type": "code",
   "execution_count": null,
   "metadata": {},
   "outputs": [],
   "source": [
    "print('hopkins pclam')\n",
    "ou.print_folder(ds_name='JohnsHopkins55',\n",
    "                model_name='pclam',\n",
    "                metric='auc',\n",
    "                test_or_valid='valid',\n",
    "                num_to_plot=-1)"
   ]
  }
 ],
 "metadata": {
  "kernelspec": {
   "display_name": "piegam",
   "language": "python",
   "name": "python3"
  },
  "language_info": {
   "codemirror_mode": {
    "name": "ipython",
    "version": 3
   },
   "file_extension": ".py",
   "mimetype": "text/x-python",
   "name": "python",
   "nbconvert_exporter": "python",
   "pygments_lexer": "ipython3",
   "version": "3.11.5"
  }
 },
 "nbformat": 4,
 "nbformat_minor": 2
}
