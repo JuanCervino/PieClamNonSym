{
 "cells": [
  {
   "cell_type": "code",
   "execution_count": 7,
   "metadata": {},
   "outputs": [
    {
     "name": "stdout",
     "output_type": "stream",
     "text": [
      "device = cuda\n",
      "The autoreload extension is already loaded. To reload it, use:\n",
      "  %reload_ext autoreload\n"
     ]
    }
   ],
   "source": [
    "import torch\n",
    "import matplotlib.pyplot as plt\n",
    "import networkx as nx\n",
    "# local\n",
    "import sys\n",
    "if '..' not in sys.path:\n",
    "    sys.path.insert(0, '..')\n",
    "\n",
    "from datasets.import_dataset import import_dataset\n",
    "from trainer import Trainer\n",
    "from utils.plotting import *\n",
    "from utils import utils\n",
    "import datasets.simulations as sim\n",
    "\n",
    "device = torch.device('cuda' if torch.cuda.is_available() else 'cpu')\n",
    "print(f'device = {device}')\n",
    "\n",
    "\n",
    "%load_ext autoreload\n",
    "%autoreload 2"
   ]
  },
  {
   "cell_type": "code",
   "execution_count": null,
   "metadata": {},
   "outputs": [],
   "source": [
    "# densification for link prediction: take a subgraph that is not\n",
    "# link prediction: i know some of the nodes and a bunch is dyads on which i need to predict. so take a subgraph "
   ]
  },
  {
   "cell_type": "code",
   "execution_count": 22,
   "metadata": {},
   "outputs": [
    {
     "name": "stdout",
     "output_type": "stream",
     "text": [
      "\n",
      "\n",
      "/home/user/Documents/danny/AAAI_pieclam/experiments/../trainer.py:302:::  \n",
      " 2024-09-15 16:54:13 starting optimization of iegam on photo on device cuda\n",
      "\n",
      " configs_dict: \n",
      "{\n",
      "    \"clamiter_init\": {\n",
      "        \"dim_feat\": 30,\n",
      "        \"dim_attr\": 500,\n",
      "        \"s_reg\": 0.0,\n",
      "        \"l1_reg\": 1,\n",
      "        \"T\": 1,\n",
      "        \"hidden_dim\": 64,\n",
      "        \"num_coupling_blocks\": 32,\n",
      "        \"num_layers_mlp\": 2\n",
      "    },\n",
      "    \"feat_opt\": {\n",
      "        \"lr\": 1e-06,\n",
      "        \"n_iter\": 20000,\n",
      "        \"early_stop\": 0\n",
      "    }\n",
      "}\n",
      "\n",
      "\n",
      "/home/user/Documents/danny/AAAI_pieclam/experiments/../clamiter.py:369:::  \n",
      "fit wrapper fit_feats, plotting state at iter 9999\n"
     ]
    },
    {
     "data": {
      "image/png": "[encoded data removed]",
      "text/plain": [
       "<Figure size 300x300 with 1 Axes>"
      ]
     },
     "metadata": {},
     "output_type": "display_data"
    },
    {
     "name": "stdout",
     "output_type": "stream",
     "text": [
      "\n",
      "\n",
      "/home/user/Documents/danny/AAAI_pieclam/experiments/../clamiter.py:369:::  \n",
      "fit wrapper fit_feats, plotting state at iter 19999\n"
     ]
    },
    {
     "data": {
      "image/png": "[encoded data removed]",
      "text/plain": [
       "<Figure size 300x300 with 1 Axes>"
      ]
     },
     "metadata": {},
     "output_type": "display_data"
    },
    {
     "name": "stdout",
     "output_type": "stream",
     "text": [
      "\n",
      "\n",
      "/home/user/Documents/danny/AAAI_pieclam/experiments/../trainer.py:418:::  \n",
      "\n",
      "\n",
      "FINISHED train \n",
      " last accuracies:\n",
      "auc: 0.9600832494999992\n",
      "\n",
      "\n",
      "/home/user/Documents/danny/AAAI_pieclam/experiments/../trainer.py:424:::  \n",
      "\n",
      "\n",
      "\n"
     ]
    }
   ],
   "source": [
    "# train = 85% val = 5% test = 10%\n",
    "# need to omit 15% of the nodes, then run accuracy on the 5% validation set\n",
    "\n",
    "\n",
    "\n",
    "#todo:DENSIFICATION send the dyads to omit as a dict of val dyads and test dyads. make sure that they all get omitted and keep sending them down until you reach the acc track\n",
    "\n",
    "photo_ds = import_dataset('photo')\n",
    "photo_ds.edge_index.shape\n",
    "#todo: no choice: change the get_dyads_to_omit function to omit only dyads that werent omitted. ones that \n",
    "dyads_to_omit = utils.get_dyads_to_omit(photo_ds.edge_index, 0.15)\n",
    "\n",
    "\n",
    "\n",
    "\n",
    "trainer_photo_ieclam = Trainer(\n",
    "                        dataset=photo_ds,\n",
    "                        model_name='iegam',\n",
    "                        task='link_prediction',\n",
    "                        device=device,\n",
    ")\n",
    "\n",
    "losses, acc_test, acc_val = trainer_photo_ieclam.train(\n",
    "            init_type='small_gaus',\n",
    "            init_feats=True,\n",
    "            dyads_to_omit=dyads_to_omit,\n",
    "            acc_every=20,\n",
    "            plot_every=10000,\n",
    "            verbose=False,\n",
    "            verbose_in_funcs=False\n",
    "        )\n"
   ]
  }
 ],
 "metadata": {
  "kernelspec": {
   "display_name": "piegam",
   "language": "python",
   "name": "python3"
  },
  "language_info": {
   "codemirror_mode": {
    "name": "ipython",
    "version": 3
   },
   "file_extension": ".py",
   "mimetype": "text/x-python",
   "name": "python",
   "nbconvert_exporter": "python",
   "pygments_lexer": "ipython3",
   "version": "3.11.5"
  }
 },
 "nbformat": 4,
 "nbformat_minor": 2
}
