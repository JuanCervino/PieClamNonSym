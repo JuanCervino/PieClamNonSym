{
 "cells": [
  {
   "cell_type": "code",
   "execution_count": 7,
   "metadata": {},
   "outputs": [
    {
     "name": "stdout",
     "output_type": "stream",
     "text": [
      "device = cuda\n",
      "The autoreload extension is already loaded. To reload it, use:\n",
      "  %reload_ext autoreload\n"
     ]
    }
   ],
   "source": [
    "import torch\n",
    "import matplotlib.pyplot as plt\n",
    "import networkx as nx\n",
    "# local\n",
    "import sys\n",
    "if '..' not in sys.path:\n",
    "    sys.path.insert(0, '..')\n",
    "\n",
    "from datasets.import_dataset import import_dataset\n",
    "from trainer import Trainer\n",
    "from utils.plotting import *\n",
    "from utils import utils\n",
    "import datasets.simulations as sim\n",
    "\n",
    "device = torch.device('cuda' if torch.cuda.is_available() else 'cpu')\n",
    "print(f'device = {device}')\n",
    "\n",
    "\n",
    "%load_ext autoreload\n",
    "%autoreload 2"
   ]
  },
  {
   "cell_type": "code",
   "execution_count": null,
   "metadata": {},
   "outputs": [],
   "source": [
    "# densification for link prediction: take a subgraph that is not\n",
    "# link prediction: i know some of the nodes and a bunch is dyads on which i need to predict. so take a subgraph "
   ]
  },
  {
   "cell_type": "code",
   "execution_count": 15,
   "metadata": {},
   "outputs": [
    {
     "name": "stdout",
     "output_type": "stream",
     "text": [
      "\n",
      "\n",
      "/home/user/Documents/danny/AAAI_pieclam/experiments/../trainer.py:302:::  \n",
      " 2024-09-15 14:40:34 starting optimization of iegam on photo on device cuda\n",
      "\n",
      " configs_dict: \n",
      "{\n",
      "    \"clamiter_init\": {\n",
      "        \"dim_feat\": 30,\n",
      "        \"dim_attr\": 500,\n",
      "        \"s_reg\": 0.0,\n",
      "        \"l1_reg\": 1,\n",
      "        \"T\": 1,\n",
      "        \"hidden_dim\": 64,\n",
      "        \"num_coupling_blocks\": 32,\n",
      "        \"num_layers_mlp\": 2\n",
      "    },\n",
      "    \"feat_opt\": {\n",
      "        \"lr\": 1e-06,\n",
      "        \"n_iter\": 20000,\n",
      "        \"early_stop\": 0\n",
      "    }\n",
      "}\n",
      "\n",
      "\n",
      "/home/user/Documents/danny/AAAI_pieclam/experiments/../trainer.py:404:::  \n",
      "ERROR in train_model_on_params: in AccTrack, dyads_to_omit and lorenz should be given\n",
      "\n",
      "\n",
      "/home/user/Documents/danny/AAAI_pieclam/experiments/../trainer.py:410:::  \n",
      "\n",
      "\n",
      "FINISHED train \n",
      " last accuracies:\n"
     ]
    },
    {
     "ename": "UnboundLocalError",
     "evalue": "cannot access local variable 'accuracies_test' where it is not associated with a value",
     "output_type": "error",
     "traceback": [
      "\u001b[0;31m---------------------------------------------------------------------------\u001b[0m",
      "\u001b[0;31mValueError\u001b[0m                                Traceback (most recent call last)",
      "File \u001b[0;32m~/Documents/danny/AAAI_pieclam/experiments/../trainer.py:331\u001b[0m, in \u001b[0;36mTrainer.train\u001b[0;34m(self, init_type, dyads_to_omit, init_feats, acc_every, performance_metric, prior_fit_mask, plot_every, verbose, verbose_in_funcs, node_feats_for_init, **kwargs)\u001b[0m\n\u001b[1;32m    330\u001b[0m losses_prior \u001b[38;5;241m=\u001b[39m \u001b[38;5;28;01mNone\u001b[39;00m\n\u001b[0;32m--> 331\u001b[0m losses_feats, accuracies_test, accuracies_val \u001b[38;5;241m=\u001b[39m \u001b[38;5;28mself\u001b[39m\u001b[38;5;241m.\u001b[39mclamiter\u001b[38;5;241m.\u001b[39mfit_feats(\n\u001b[1;32m    332\u001b[0m         graph\u001b[38;5;241m=\u001b[39m\u001b[38;5;28mself\u001b[39m\u001b[38;5;241m.\u001b[39mdata,\n\u001b[1;32m    333\u001b[0m         acc_every\u001b[38;5;241m=\u001b[39macc_every,\n\u001b[1;32m    334\u001b[0m         task\u001b[38;5;241m=\u001b[39m\u001b[38;5;28mself\u001b[39m\u001b[38;5;241m.\u001b[39mtask,\n\u001b[1;32m    335\u001b[0m         dyads_to_omit\u001b[38;5;241m=\u001b[39mdyads_to_omit, \n\u001b[1;32m    336\u001b[0m         performance_metric\u001b[38;5;241m=\u001b[39mperformance_metric,\n\u001b[1;32m    337\u001b[0m         plot_every\u001b[38;5;241m=\u001b[39mplot_every,\n\u001b[1;32m    338\u001b[0m         \u001b[38;5;241m*\u001b[39m\u001b[38;5;241m*\u001b[39m\u001b[38;5;28mself\u001b[39m\u001b[38;5;241m.\u001b[39mconfigs_dict[\u001b[38;5;124m'\u001b[39m\u001b[38;5;124mfeat_opt\u001b[39m\u001b[38;5;124m'\u001b[39m], \n\u001b[1;32m    339\u001b[0m         verbose\u001b[38;5;241m=\u001b[39mverbose_in_funcs \u001b[38;5;129;01mor\u001b[39;00m verbose,\n\u001b[1;32m    340\u001b[0m         \u001b[38;5;241m*\u001b[39m\u001b[38;5;241m*\u001b[39mkwargs)\n\u001b[1;32m    341\u001b[0m \u001b[38;5;28;01mif\u001b[39;00m verbose:\n",
      "File \u001b[0;32m~/Documents/danny/AAAI_pieclam/experiments/../clamiter.py:414\u001b[0m, in \u001b[0;36mPCLAMIter.fit_feats\u001b[0;34m(self, graph, n_iter, lr, task, node_mask, performance_metric, dyads_to_omit, early_stop, cutoff, verbose, acc_every, plot_every, **kwargs)\u001b[0m\n\u001b[1;32m    411\u001b[0m \u001b[38;5;250m\u001b[39m\u001b[38;5;124;03m'''optimize the features using iterations of clamiter.\u001b[39;00m\n\u001b[1;32m    412\u001b[0m \u001b[38;5;124;03mparam: node_mask: a mask for the nodes to optimize, the rest should stay unchanged'''\u001b[39;00m\n\u001b[0;32m--> 414\u001b[0m \u001b[38;5;28;01mreturn\u001b[39;00m \u001b[38;5;28mself\u001b[39m\u001b[38;5;241m.\u001b[39mfit_wrapper(graph\u001b[38;5;241m=\u001b[39mgraph,\n\u001b[1;32m    415\u001b[0m                         n_iter\u001b[38;5;241m=\u001b[39mn_iter, \n\u001b[1;32m    416\u001b[0m                         lr\u001b[38;5;241m=\u001b[39mlr, \n\u001b[1;32m    417\u001b[0m                         task\u001b[38;5;241m=\u001b[39mtask,\n\u001b[1;32m    418\u001b[0m                         which_fit\u001b[38;5;241m=\u001b[39m\u001b[38;5;124m'\u001b[39m\u001b[38;5;124mfit_feats\u001b[39m\u001b[38;5;124m'\u001b[39m,\n\u001b[1;32m    419\u001b[0m                         node_mask\u001b[38;5;241m=\u001b[39mnode_mask,\n\u001b[1;32m    420\u001b[0m                         performance_metric\u001b[38;5;241m=\u001b[39mperformance_metric,\n\u001b[1;32m    421\u001b[0m                         dyads_to_omit\u001b[38;5;241m=\u001b[39mdyads_to_omit, \n\u001b[1;32m    422\u001b[0m                         early_stop\u001b[38;5;241m=\u001b[39mearly_stop,\n\u001b[1;32m    423\u001b[0m                         cutoff\u001b[38;5;241m=\u001b[39mcutoff, \n\u001b[1;32m    424\u001b[0m                         verbose\u001b[38;5;241m=\u001b[39mverbose,\n\u001b[1;32m    425\u001b[0m                         acc_every\u001b[38;5;241m=\u001b[39macc_every, \n\u001b[1;32m    426\u001b[0m                         plot_every\u001b[38;5;241m=\u001b[39mplot_every,\n\u001b[1;32m    427\u001b[0m                         \u001b[38;5;241m*\u001b[39m\u001b[38;5;241m*\u001b[39mkwargs\n\u001b[1;32m    428\u001b[0m                         )\n",
      "File \u001b[0;32m~/Documents/danny/AAAI_pieclam/experiments/../clamiter.py:310\u001b[0m, in \u001b[0;36mPCLAMIter.fit_wrapper\u001b[0;34m(self, graph, n_iter, lr, task, which_fit, early_stop, cutoff, verbose, acc_every, plot_every, **kwargs)\u001b[0m\n\u001b[1;32m    308\u001b[0m losses \u001b[38;5;241m=\u001b[39m []\n\u001b[0;32m--> 310\u001b[0m acc_tracker \u001b[38;5;241m=\u001b[39m AccTrack(clamiter\u001b[38;5;241m=\u001b[39m\u001b[38;5;28mself\u001b[39m, \n\u001b[1;32m    311\u001b[0m                     graph\u001b[38;5;241m=\u001b[39mgraph, \n\u001b[1;32m    312\u001b[0m                     task\u001b[38;5;241m=\u001b[39mtask, \n\u001b[1;32m    313\u001b[0m                     acc_every\u001b[38;5;241m=\u001b[39macc_every,\n\u001b[1;32m    314\u001b[0m                     calling_function_name\u001b[38;5;241m=\u001b[39mwhich_fit,\n\u001b[1;32m    315\u001b[0m                     \u001b[38;5;241m*\u001b[39m\u001b[38;5;241m*\u001b[39mkwargs)\n\u001b[1;32m    317\u001b[0m \u001b[38;5;66;03m# ======== end init early stop ======\u001b[39;00m\n\u001b[1;32m    318\u001b[0m \n\u001b[1;32m    319\u001b[0m \u001b[38;5;66;03m# NODE MASK\u001b[39;00m\n",
      "File \u001b[0;32m~/Documents/danny/AAAI_pieclam/experiments/../clamiter.py:1070\u001b[0m, in \u001b[0;36mAccTrack.__init__\u001b[0;34m(self, clamiter, graph, task, calling_function_name, acc_every, **kwargs)\u001b[0m\n\u001b[1;32m   1069\u001b[0m \u001b[38;5;28;01mif\u001b[39;00m \u001b[38;5;28mself\u001b[39m\u001b[38;5;241m.\u001b[39mdyads_to_omit \u001b[38;5;129;01mis\u001b[39;00m \u001b[38;5;28;01mNone\u001b[39;00m \u001b[38;5;129;01mor\u001b[39;00m \u001b[38;5;28mself\u001b[39m\u001b[38;5;241m.\u001b[39mlorenz \u001b[38;5;129;01mis\u001b[39;00m \u001b[38;5;28;01mNone\u001b[39;00m:\n\u001b[0;32m-> 1070\u001b[0m     \u001b[38;5;28;01mraise\u001b[39;00m \u001b[38;5;167;01mValueError\u001b[39;00m(\u001b[38;5;124m'\u001b[39m\u001b[38;5;124min AccTrack, dyads_to_omit and lorenz should be given\u001b[39m\u001b[38;5;124m'\u001b[39m)\n\u001b[1;32m   1072\u001b[0m \u001b[38;5;28mself\u001b[39m\u001b[38;5;241m.\u001b[39maccuracies_test \u001b[38;5;241m=\u001b[39m {\u001b[38;5;124m'\u001b[39m\u001b[38;5;124mauc\u001b[39m\u001b[38;5;124m'\u001b[39m: []}                                                                      \n",
      "\u001b[0;31mValueError\u001b[0m: in AccTrack, dyads_to_omit and lorenz should be given",
      "\nDuring handling of the above exception, another exception occurred:\n",
      "\u001b[0;31mUnboundLocalError\u001b[0m                         Traceback (most recent call last)",
      "Cell \u001b[0;32mIn[15], line 21\u001b[0m\n\u001b[1;32m     12\u001b[0m val_dyads_to_omit \u001b[38;5;241m=\u001b[39m utils\u001b[38;5;241m.\u001b[39mget_dyads_to_omit(photo_ds\u001b[38;5;241m.\u001b[39medge_index, \u001b[38;5;241m0.05\u001b[39m)\n\u001b[1;32m     14\u001b[0m trainer_photo_ieclam \u001b[38;5;241m=\u001b[39m Trainer(\n\u001b[1;32m     15\u001b[0m                         dataset\u001b[38;5;241m=\u001b[39mphoto_ds,\n\u001b[1;32m     16\u001b[0m                         model_name\u001b[38;5;241m=\u001b[39m\u001b[38;5;124m'\u001b[39m\u001b[38;5;124miegam\u001b[39m\u001b[38;5;124m'\u001b[39m,\n\u001b[1;32m     17\u001b[0m                         task\u001b[38;5;241m=\u001b[39m\u001b[38;5;124m'\u001b[39m\u001b[38;5;124mlink_prediction\u001b[39m\u001b[38;5;124m'\u001b[39m,\n\u001b[1;32m     18\u001b[0m                         device\u001b[38;5;241m=\u001b[39mdevice,\n\u001b[1;32m     19\u001b[0m )\n\u001b[0;32m---> 21\u001b[0m losses, acc_test, acc_val \u001b[38;5;241m=\u001b[39m trainer_photo_ieclam\u001b[38;5;241m.\u001b[39mtrain(\n\u001b[1;32m     22\u001b[0m             init_type\u001b[38;5;241m=\u001b[39m\u001b[38;5;124m'\u001b[39m\u001b[38;5;124msmall_gaus\u001b[39m\u001b[38;5;124m'\u001b[39m,\n\u001b[1;32m     23\u001b[0m             init_feats\u001b[38;5;241m=\u001b[39m\u001b[38;5;28;01mTrue\u001b[39;00m,\n\u001b[1;32m     24\u001b[0m             dyads_to_omit\u001b[38;5;241m=\u001b[39mdyads_to_omit,\n\u001b[1;32m     25\u001b[0m             acc_every\u001b[38;5;241m=\u001b[39m\u001b[38;5;241m20\u001b[39m,\n\u001b[1;32m     26\u001b[0m             plot_every\u001b[38;5;241m=\u001b[39m\u001b[38;5;241m10000\u001b[39m,\n\u001b[1;32m     27\u001b[0m             verbose\u001b[38;5;241m=\u001b[39m\u001b[38;5;28;01mFalse\u001b[39;00m,\n\u001b[1;32m     28\u001b[0m             verbose_in_funcs\u001b[38;5;241m=\u001b[39m\u001b[38;5;28;01mFalse\u001b[39;00m\n\u001b[1;32m     29\u001b[0m         )\n",
      "File \u001b[0;32m~/Documents/danny/AAAI_pieclam/experiments/../trainer.py:411\u001b[0m, in \u001b[0;36mTrainer.train\u001b[0;34m(self, init_type, dyads_to_omit, init_feats, acc_every, performance_metric, prior_fit_mask, plot_every, verbose, verbose_in_funcs, node_feats_for_init, **kwargs)\u001b[0m\n\u001b[1;32m    409\u001b[0m \u001b[38;5;28mself\u001b[39m\u001b[38;5;241m.\u001b[39mdata\u001b[38;5;241m.\u001b[39medge_attr \u001b[38;5;241m=\u001b[39m torch\u001b[38;5;241m.\u001b[39mones(\u001b[38;5;28mself\u001b[39m\u001b[38;5;241m.\u001b[39mdata\u001b[38;5;241m.\u001b[39medge_index\u001b[38;5;241m.\u001b[39mshape[\u001b[38;5;241m1\u001b[39m])\u001b[38;5;241m.\u001b[39mbool()\u001b[38;5;241m.\u001b[39mto(\u001b[38;5;28mself\u001b[39m\u001b[38;5;241m.\u001b[39mdevice)\n\u001b[1;32m    410\u001b[0m printd(\u001b[38;5;124mf\u001b[39m\u001b[38;5;124m'\u001b[39m\u001b[38;5;130;01m\\n\u001b[39;00m\u001b[38;5;130;01m\\n\u001b[39;00m\u001b[38;5;130;01m\\n\u001b[39;00m\u001b[38;5;124mFINISHED train \u001b[39m\u001b[38;5;130;01m\\n\u001b[39;00m\u001b[38;5;124m last accuracies:\u001b[39m\u001b[38;5;124m'\u001b[39m)\n\u001b[0;32m--> 411\u001b[0m \u001b[38;5;28;01mfor\u001b[39;00m key \u001b[38;5;129;01min\u001b[39;00m accuracies_test\u001b[38;5;241m.\u001b[39mkeys():\n\u001b[1;32m    412\u001b[0m     \u001b[38;5;28;01mif\u001b[39;00m accuracies_test[key] \u001b[38;5;129;01mis\u001b[39;00m \u001b[38;5;129;01mnot\u001b[39;00m \u001b[38;5;28;01mNone\u001b[39;00m:\n\u001b[1;32m    413\u001b[0m         \u001b[38;5;28mprint\u001b[39m(\u001b[38;5;124mf\u001b[39m\u001b[38;5;124m'\u001b[39m\u001b[38;5;132;01m{\u001b[39;00mkey\u001b[38;5;132;01m}\u001b[39;00m\u001b[38;5;124m: \u001b[39m\u001b[38;5;132;01m{\u001b[39;00maccuracies_test[key][\u001b[38;5;241m-\u001b[39m\u001b[38;5;241m1\u001b[39m]\u001b[38;5;132;01m}\u001b[39;00m\u001b[38;5;124m'\u001b[39m)\n",
      "\u001b[0;31mUnboundLocalError\u001b[0m: cannot access local variable 'accuracies_test' where it is not associated with a value"
     ]
    }
   ],
   "source": [
    "# train = 85% val = 5% test = 10%\n",
    "# need to omit 15% of the nodes, then run accuracy on the 5% validation set\n",
    "\n",
    "\n",
    "\n",
    "#todo:DENSIFICATION send the dyads to omit as a dict of val dyads and test dyads. make sure that they all get omitted and keep sending them down until you reach the acc track\n",
    "\n",
    "photo_ds = import_dataset('photo')\n",
    "photo_ds.edge_index.shape\n",
    "#todo: no choice: change the get_dyads_to_omit function to omit only dyads that werent omitted. ones that \n",
    "# dyads_to_omit = utils.get_dyads_to_omit(photo_ds.edge_index, 0.15)\n",
    "dyads_to_omit = utils.get_dyads_to_omit(photo_ds.edge_index, 0.05)\n",
    "\n",
    "\n",
    "\n",
    "trainer_photo_ieclam = Trainer(\n",
    "                        dataset=photo_ds,\n",
    "                        model_name='iegam',\n",
    "                        task='link_prediction',\n",
    "                        device=device,\n",
    ")\n",
    "\n",
    "losses, acc_test, acc_val = trainer_photo_ieclam.train(\n",
    "            init_type='small_gaus',\n",
    "            init_feats=True,\n",
    "            dyads_to_omit=dyads_to_omit,\n",
    "            acc_every=20,\n",
    "            plot_every=10000,\n",
    "            verbose=False,\n",
    "            verbose_in_funcs=False\n",
    "        )\n"
   ]
  }
 ],
 "metadata": {
  "kernelspec": {
   "display_name": "piegam",
   "language": "python",
   "name": "python3"
  },
  "language_info": {
   "codemirror_mode": {
    "name": "ipython",
    "version": 3
   },
   "file_extension": ".py",
   "mimetype": "text/x-python",
   "name": "python",
   "nbconvert_exporter": "python",
   "pygments_lexer": "ipython3",
   "version": "3.11.5"
  }
 },
 "nbformat": 4,
 "nbformat_minor": 2
}
