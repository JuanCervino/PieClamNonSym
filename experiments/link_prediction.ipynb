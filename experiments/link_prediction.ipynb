{
 "cells": [
  {
   "cell_type": "code",
   "execution_count": 72,
   "metadata": {},
   "outputs": [
    {
     "name": "stdout",
     "output_type": "stream",
     "text": [
      "device = cuda\n",
      "The autoreload extension is already loaded. To reload it, use:\n",
      "  %reload_ext autoreload\n"
     ]
    }
   ],
   "source": [
    "import os\n",
    "\n",
    "# Set the PYDEVD_WARN_SLOW_RESOLVE_TIMEOUT environment variable to 0.6 seconds\n",
    "# os.environ['PYDEVD_WARN_SLOW_RESOLVE_TIMEOUT'] = '0.7'\n",
    "\n",
    "import torch\n",
    "import matplotlib.pyplot as plt\n",
    "import networkx as nx\n",
    "# local\n",
    "import sys\n",
    "if '..' not in sys.path:\n",
    "    sys.path.insert(0, '..')\n",
    "\n",
    "from datasets.import_dataset import import_dataset\n",
    "from trainer import Trainer\n",
    "from utils.plotting import *\n",
    "from utils import utils\n",
    "import datasets.simulations as sim\n",
    "import link_prediction as lp\n",
    "\n",
    "\n",
    "\n",
    "\n",
    "\n",
    "device = torch.device('cuda' if torch.cuda.is_available() else 'cpu')\n",
    "print(f'device = {device}')\n",
    "\n",
    "\n",
    "%load_ext autoreload\n",
    "%autoreload 2"
   ]
  },
  {
   "cell_type": "code",
   "execution_count": null,
   "metadata": {},
   "outputs": [],
   "source": [
    "# densification for link prediction: take a subgraph that is not\n",
    "# link prediction: i know some of the nodes and a bunch is dyads on which i need to predict. so take a subgraph \n",
    "# so do a densification on all of the edges you have and omitted dyads are the same\n",
    "\n",
    "#densification. need to do a special densification here. separate between 1 and 0 after the dyads were omitted. so the dyads omittion needs to happen before the densification which makes everything ugly. why does the dyads omittion happen when it does? i think that the m\n"
   ]
  },
  {
   "cell_type": "code",
   "execution_count": 82,
   "metadata": {},
   "outputs": [
    {
     "name": "stdout",
     "output_type": "stream",
     "text": [
      "\n",
      "\n",
      "/home/user/Documents/danny/AAAI_pieclam/experiments/../trainer.py:308:::  \n",
      " 2024-09-18 22:18:30 starting optimization of iegam on photo on device cuda\n",
      "\n",
      " configs_dict: \n",
      "{\n",
      "    \"clamiter_init\": {\n",
      "        \"dim_feat\": 30,\n",
      "        \"dim_attr\": 500,\n",
      "        \"s_reg\": 0.0,\n",
      "        \"l1_reg\": 1,\n",
      "        \"T\": 1,\n",
      "        \"hidden_dim\": 64,\n",
      "        \"num_coupling_blocks\": 32,\n",
      "        \"num_layers_mlp\": 2\n",
      "    },\n",
      "    \"feat_opt\": {\n",
      "        \"lr\": 1e-06,\n",
      "        \"n_iter\": 20000,\n",
      "        \"early_stop\": 0\n",
      "    }\n",
      "}\n",
      "\n",
      "\n",
      "/home/user/Documents/danny/AAAI_pieclam/experiments/../clamiter.py:370:::  \n",
      "fit wrapper fit_feats, plotting state at iter 19999\n"
     ]
    },
    {
     "data": {
      "image/png": "[encoded data removed]",
      "text/plain": [
       "<Figure size 300x300 with 1 Axes>"
      ]
     },
     "metadata": {},
     "output_type": "display_data"
    },
    {
     "name": "stdout",
     "output_type": "stream",
     "text": [
      "\n",
      "\n",
      "/home/user/Documents/danny/AAAI_pieclam/experiments/../trainer.py:423:::  \n",
      "\n",
      "\n",
      "FINISHED train \n",
      " last accuracies:\n",
      "auc: 0.9259432471144957\n",
      "\n",
      "\n",
      "/home/user/Documents/danny/AAAI_pieclam/experiments/../trainer.py:429:::  \n",
      "\n",
      "\n",
      "\n"
     ]
    }
   ],
   "source": [
    "# train = 85% val = 5% test = 10%\n",
    "# need to omit 15% of the nodes, then run accuracy on the 5% validation set\n",
    "\n",
    "\n",
    "photo_ds = import_dataset('photo')\n",
    "photo_ds.edge_index.shape\n",
    "\n",
    "dyads_to_omit = lp.get_dyads_to_omit(photo_ds.edge_index, 0.1)\n",
    "photo_ds_omitted = lp.omit_densify_split(\n",
    "                            photo_ds, \n",
    "                            dyads_to_omit,\n",
    "                            val_rel_size=0.0,\n",
    "                            densify=True)\n",
    "\n",
    "\n",
    "# todo: make densification\n",
    "\n",
    "#todo: refactor acctracke\n",
    "#todo: anomaly detection before the algorithm. what to do with the anomalous nodes\n",
    "\n",
    "config_triplets = [\n",
    "    # ['feat_opt', 'lr', 0.000001],\n",
    "    # ['prior_opt', 'lr', 0.000001],\n",
    "    ['back_forth','n_back_forth', 5]\n",
    "                   ]\n",
    "\n",
    "trainer_photo_ieclam = Trainer(\n",
    "                        dataset=photo_ds_omitted,\n",
    "                        model_name='iegam',\n",
    "                        task='link_prediction',\n",
    "                        config_triplets_to_change=config_triplets,\n",
    "                        attr_opt=True,\n",
    "                        device=device,\n",
    ")\n",
    "\n",
    "# for link prediction we need to do the densification after omitting the dyads otherwise... otherwise we need to tell the omit dyads function... why not just do the omit dyads before trainer and have the dataset omitted. that will probably be the easiest and there will be no need for edge index original and all of that crap\n",
    "\n",
    "losses, acc_test, acc_val = trainer_photo_ieclam.train(\n",
    "            init_type='small_gaus',\n",
    "            init_feats=True,\n",
    "            acc_every=20,\n",
    "            plot_every=-1,\n",
    "            verbose=False,\n",
    "            verbose_in_funcs=False\n",
    "        )\n",
    "\n",
    "del photo_ds, photo_ds_omitted\n",
    "torch.cuda.empty_cache()\n"
   ]
  },
  {
   "cell_type": "code",
   "execution_count": null,
   "metadata": {},
   "outputs": [],
   "source": []
  },
  {
   "cell_type": "code",
   "execution_count": 7,
   "metadata": {},
   "outputs": [
    {
     "data": {
      "text/plain": [
       "0.957783663587745"
      ]
     },
     "execution_count": 7,
     "metadata": {},
     "output_type": "execute_result"
    }
   ],
   "source": [
    "acc_test['auc'][-1]\n",
    "# max(acc_test['auc'])"
   ]
  }
 ],
 "metadata": {
  "kernelspec": {
   "display_name": "piegam",
   "language": "python",
   "name": "python3"
  },
  "language_info": {
   "codemirror_mode": {
    "name": "ipython",
    "version": 3
   },
   "file_extension": ".py",
   "mimetype": "text/x-python",
   "name": "python",
   "nbconvert_exporter": "python",
   "pygments_lexer": "ipython3",
   "version": "3.11.5"
  }
 },
 "nbformat": 4,
 "nbformat_minor": 2
}
