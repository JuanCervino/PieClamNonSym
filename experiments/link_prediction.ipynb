{
 "cells": [
  {
   "cell_type": "code",
   "execution_count": 3,
   "metadata": {},
   "outputs": [
    {
     "name": "stdout",
     "output_type": "stream",
     "text": [
      "device = cuda\n"
     ]
    }
   ],
   "source": [
    "import os\n",
    "\n",
    "import torch\n",
    "import matplotlib.pyplot as plt\n",
    "import networkx as nx\n",
    "import collections\n",
    "\n",
    "from copy import deepcopy\n",
    "\n",
    "# local\n",
    "import optimization_utils as ou\n",
    "\n",
    "import sys\n",
    "if '..' not in sys.path:\n",
    "    sys.path.insert(0, '..')\n",
    "\n",
    "\n",
    "from datasets.import_dataset import import_dataset\n",
    "from trainer import Trainer\n",
    "from utils.plotting import *\n",
    "from utils import utils\n",
    "from utils import utils_pyg as up\n",
    "import datasets.simulations as sim\n",
    "import utils.link_prediction as lp\n",
    "\n",
    "\n",
    "\n",
    "\n",
    "device = torch.device('cuda' if torch.cuda.is_available() else 'cpu')\n",
    "print(f'device = {device}')\n",
    "\n",
    "\n",
    "%load_ext autoreload\n",
    "%autoreload 2"
   ]
  },
  {
   "cell_type": "code",
   "execution_count": 1,
   "metadata": {},
   "outputs": [
    {
     "name": "stdout",
     "output_type": "stream",
     "text": [
      "Interactive namespace is empty.\n"
     ]
    }
   ],
   "source": [
    "%who"
   ]
  },
  {
   "cell_type": "code",
   "execution_count": null,
   "metadata": {},
   "outputs": [],
   "source": []
  },
  {
   "cell_type": "code",
   "execution_count": 6,
   "metadata": {},
   "outputs": [
    {
     "name": "stdout",
     "output_type": "stream",
     "text": [
      "\n",
      "\n",
      "/home/user/Documents/danny/AAAI_pieclam/experiments/../trainer.py:318:::  \n",
      " 2024-12-25 19:57:17 starting optimization of pieclam on squirrel on device cuda\n",
      "\n",
      " configs_dict: \n",
      "{\n",
      "    \"clamiter_init\": {\n",
      "        \"dim_feat\": 22,\n",
      "        \"dim_attr\": 100,\n",
      "        \"s_reg\": 0.0,\n",
      "        \"l1_reg\": 1.0,\n",
      "        \"T\": 1,\n",
      "        \"hidden_dim\": 64,\n",
      "        \"num_coupling_blocks\": 32,\n",
      "        \"num_layers_mlp\": 2\n",
      "    },\n",
      "    \"feat_opt\": {\n",
      "        \"lr\": 4e-06,\n",
      "        \"n_iter\": 2000,\n",
      "        \"early_stop\": 0\n",
      "    },\n",
      "    \"prior_opt\": {\n",
      "        \"n_iter\": 2000,\n",
      "        \"lr\": 5e-06,\n",
      "        \"noise_amp\": 0.05,\n",
      "        \"weight_decay\": 0.1,\n",
      "        \"early_stop\": 0\n",
      "    },\n",
      "    \"back_forth\": {\n",
      "        \"n_back_forth\": 7,\n",
      "        \"scheduler_step_size\": 3,\n",
      "        \"scheduler_gamma\": 0.5,\n",
      "        \"early_stop_fit\": 0,\n",
      "        \"first_func_in_fit\": \"fit_prior\"\n",
      "    }\n",
      "}\n",
      "\n",
      "\n",
      "/home/user/Documents/danny/AAAI_pieclam/experiments/../clamiter.py:548:::  \n",
      "in fit,\n",
      "first_func_in_fit='fit_prior'\n",
      "second_function_name='fit_feats'\n",
      "\n",
      "\n",
      "/home/user/Documents/danny/AAAI_pieclam/experiments/../clamiter.py:607:::  \n",
      "back and forth 1/7\n",
      "\n",
      "\n",
      "/home/user/Documents/danny/AAAI_pieclam/experiments/optimization_utils.py:281:::  \n",
      "\n",
      "Finished CrossVal!\n",
      "\n",
      "\n"
     ]
    },
    {
     "ename": "KeyboardInterrupt",
     "evalue": "",
     "output_type": "error",
     "traceback": [
      "\u001b[0;31m---------------------------------------------------------------------------\u001b[0m",
      "\u001b[0;31mKeyboardInterrupt\u001b[0m                         Traceback (most recent call last)",
      "Cell \u001b[0;32mIn[6], line 43\u001b[0m\n\u001b[1;32m     33\u001b[0m     range_triplets \u001b[38;5;241m+\u001b[39m\u001b[38;5;241m=\u001b[39m [\n\u001b[1;32m     34\u001b[0m         [\u001b[38;5;124m'\u001b[39m\u001b[38;5;124mback_forth\u001b[39m\u001b[38;5;124m'\u001b[39m, \u001b[38;5;124m'\u001b[39m\u001b[38;5;124mfirst_func_in_fit\u001b[39m\u001b[38;5;124m'\u001b[39m, first_funcs_in_fit],\n\u001b[1;32m     35\u001b[0m         [\u001b[38;5;124m'\u001b[39m\u001b[38;5;124mprior_opt\u001b[39m\u001b[38;5;124m'\u001b[39m,\u001b[38;5;124m'\u001b[39m\u001b[38;5;124mn_iter\u001b[39m\u001b[38;5;124m'\u001b[39m, n_iters_prior],\n\u001b[0;32m   (...)\u001b[0m\n\u001b[1;32m     38\u001b[0m         [\u001b[38;5;124m'\u001b[39m\u001b[38;5;124mback_forth\u001b[39m\u001b[38;5;124m'\u001b[39m,\u001b[38;5;124m'\u001b[39m\u001b[38;5;124mn_back_forth\u001b[39m\u001b[38;5;124m'\u001b[39m, n_back_forth]\n\u001b[1;32m     39\u001b[0m     ]\n\u001b[1;32m     41\u001b[0m \u001b[38;5;66;03m#RUN CROSS VALIDATION ON THE DATASET WITH THE MODEL\u001b[39;00m\n\u001b[1;32m     42\u001b[0m \u001b[38;5;66;03m#TODO: take test p before the cross val link\u001b[39;00m\n\u001b[0;32m---> 43\u001b[0m ou\u001b[38;5;241m.\u001b[39mcross_val_link(\n\u001b[1;32m     44\u001b[0m     ds_name\u001b[38;5;241m=\u001b[39mds_name,\n\u001b[1;32m     45\u001b[0m     model_name\u001b[38;5;241m=\u001b[39mmodel_name,\n\u001b[1;32m     46\u001b[0m     range_triplets\u001b[38;5;241m=\u001b[39mrange_triplets,\n\u001b[1;32m     47\u001b[0m     use_global_config_base\u001b[38;5;241m=\u001b[39muse_global_config_base,\n\u001b[1;32m     48\u001b[0m     densify\u001b[38;5;241m=\u001b[39mdensify,\n\u001b[1;32m     49\u001b[0m     attr_opt\u001b[38;5;241m=\u001b[39mattr_opt,\n\u001b[1;32m     50\u001b[0m     test_p\u001b[38;5;241m=\u001b[39mtest_p,\n\u001b[1;32m     51\u001b[0m     val_p\u001b[38;5;241m=\u001b[39mval_p,\n\u001b[1;32m     52\u001b[0m     n_reps\u001b[38;5;241m=\u001b[39mn_reps,\n\u001b[1;32m     53\u001b[0m     device\u001b[38;5;241m=\u001b[39mdevice\n\u001b[1;32m     54\u001b[0m     )\n",
      "File \u001b[0;32m~/Documents/danny/AAAI_pieclam/experiments/optimization_utils.py:247\u001b[0m, in \u001b[0;36mcross_val_link\u001b[0;34m(ds_name, model_name, range_triplets, n_reps, use_global_config_base, densify, test_p, val_p, device, test_dyads_to_omit, attr_opt, plot_every)\u001b[0m\n\u001b[1;32m    228\u001b[0m \u001b[38;5;66;03m# if model_name in {'ieclam', 'pieclam'}:\u001b[39;00m\n\u001b[1;32m    229\u001b[0m \u001b[38;5;66;03m#     if 's_reg' in inners:\u001b[39;00m\n\u001b[1;32m    230\u001b[0m \u001b[38;5;66;03m#         ind_s = inners.index('s_reg')\u001b[39;00m\n\u001b[1;32m    231\u001b[0m \u001b[38;5;66;03m#         config_triplets.append([outers[ind_s], inners[ind_s], values[ind_s]])\u001b[39;00m\n\u001b[1;32m    237\u001b[0m trainer \u001b[38;5;241m=\u001b[39m Trainer(\n\u001b[1;32m    238\u001b[0m             dataset\u001b[38;5;241m=\u001b[39mds_test_val_omitted,\n\u001b[1;32m    239\u001b[0m             model_name\u001b[38;5;241m=\u001b[39mmodel_name,\n\u001b[0;32m   (...)\u001b[0m\n\u001b[1;32m    244\u001b[0m             device\u001b[38;5;241m=\u001b[39mdevice,\n\u001b[1;32m    245\u001b[0m )\n\u001b[0;32m--> 247\u001b[0m losses, acc_test, acc_val \u001b[38;5;241m=\u001b[39m trainer\u001b[38;5;241m.\u001b[39mtrain(\n\u001b[1;32m    248\u001b[0m             init_type\u001b[38;5;241m=\u001b[39m\u001b[38;5;124m'\u001b[39m\u001b[38;5;124msmall_gaus\u001b[39m\u001b[38;5;124m'\u001b[39m,\n\u001b[1;32m    249\u001b[0m             init_feats\u001b[38;5;241m=\u001b[39m\u001b[38;5;28;01mTrue\u001b[39;00m,\n\u001b[1;32m    250\u001b[0m             acc_every\u001b[38;5;241m=\u001b[39m\u001b[38;5;241m20\u001b[39m,\n\u001b[1;32m    251\u001b[0m             plot_every\u001b[38;5;241m=\u001b[39mplot_every,\n\u001b[1;32m    252\u001b[0m             verbose\u001b[38;5;241m=\u001b[39m\u001b[38;5;28;01mFalse\u001b[39;00m,\n\u001b[1;32m    253\u001b[0m             verbose_in_funcs\u001b[38;5;241m=\u001b[39m\u001b[38;5;28;01mFalse\u001b[39;00m\n\u001b[1;32m    254\u001b[0m         )\n\u001b[1;32m    257\u001b[0m \u001b[38;5;28;01mif\u001b[39;00m acc_test[\u001b[38;5;124m'\u001b[39m\u001b[38;5;124mauc\u001b[39m\u001b[38;5;124m'\u001b[39m]:\n\u001b[1;32m    258\u001b[0m     last_acc_test \u001b[38;5;241m=\u001b[39m acc_test[\u001b[38;5;124m'\u001b[39m\u001b[38;5;124mauc\u001b[39m\u001b[38;5;124m'\u001b[39m][\u001b[38;5;241m-\u001b[39m\u001b[38;5;241m1\u001b[39m]\n",
      "File \u001b[0;32m~/Documents/danny/AAAI_pieclam/experiments/../trainer.py:382\u001b[0m, in \u001b[0;36mTrainer.train\u001b[0;34m(self, init_type, val_rel_size, init_feats, acc_every, performance_metric, prior_fit_mask, plot_every, verbose, verbose_in_funcs, node_feats_for_init, **kwargs)\u001b[0m\n\u001b[1;32m    368\u001b[0m     \u001b[38;5;28mself\u001b[39m\u001b[38;5;241m.\u001b[39mscheduler \u001b[38;5;241m=\u001b[39m torch\u001b[38;5;241m.\u001b[39moptim\u001b[38;5;241m.\u001b[39mlr_scheduler\u001b[38;5;241m.\u001b[39mStepLR(\n\u001b[1;32m    369\u001b[0m             \u001b[38;5;28mself\u001b[39m\u001b[38;5;241m.\u001b[39moptimizer, \n\u001b[1;32m    370\u001b[0m             step_size\u001b[38;5;241m=\u001b[39m\u001b[38;5;28mself\u001b[39m\u001b[38;5;241m.\u001b[39mconfigs_dict[\u001b[38;5;124m'\u001b[39m\u001b[38;5;124mback_forth\u001b[39m\u001b[38;5;124m'\u001b[39m][\u001b[38;5;124m'\u001b[39m\u001b[38;5;124mscheduler_step_size\u001b[39m\u001b[38;5;124m'\u001b[39m], \n\u001b[1;32m    371\u001b[0m             gamma\u001b[38;5;241m=\u001b[39m\u001b[38;5;28mself\u001b[39m\u001b[38;5;241m.\u001b[39mconfigs_dict[\u001b[38;5;124m'\u001b[39m\u001b[38;5;124mback_forth\u001b[39m\u001b[38;5;124m'\u001b[39m][\u001b[38;5;124m'\u001b[39m\u001b[38;5;124mscheduler_gamma\u001b[39m\u001b[38;5;124m'\u001b[39m])\n\u001b[1;32m    373\u001b[0m fit_opt_params \u001b[38;5;241m=\u001b[39m {\n\u001b[1;32m    374\u001b[0m         \u001b[38;5;124m'\u001b[39m\u001b[38;5;124mfeat_params\u001b[39m\u001b[38;5;124m'\u001b[39m: \u001b[38;5;28mself\u001b[39m\u001b[38;5;241m.\u001b[39mconfigs_dict[\u001b[38;5;124m'\u001b[39m\u001b[38;5;124mfeat_opt\u001b[39m\u001b[38;5;124m'\u001b[39m],\n\u001b[1;32m    375\u001b[0m         \u001b[38;5;124m'\u001b[39m\u001b[38;5;124mprior_params\u001b[39m\u001b[38;5;124m'\u001b[39m: \u001b[38;5;28mself\u001b[39m\u001b[38;5;241m.\u001b[39mconfigs_dict[\u001b[38;5;124m'\u001b[39m\u001b[38;5;124mprior_opt\u001b[39m\u001b[38;5;124m'\u001b[39m],\n\u001b[0;32m   (...)\u001b[0m\n\u001b[1;32m    379\u001b[0m         \u001b[38;5;124m'\u001b[39m\u001b[38;5;124mearly_stop_fit\u001b[39m\u001b[38;5;124m'\u001b[39m: \u001b[38;5;28mself\u001b[39m\u001b[38;5;241m.\u001b[39mconfigs_dict[\u001b[38;5;124m'\u001b[39m\u001b[38;5;124mback_forth\u001b[39m\u001b[38;5;124m'\u001b[39m][\u001b[38;5;124m'\u001b[39m\u001b[38;5;124mearly_stop_fit\u001b[39m\u001b[38;5;124m'\u001b[39m]\n\u001b[1;32m    380\u001b[0m         }\n\u001b[0;32m--> 382\u001b[0m losses, accuracies_test, accuracies_val \u001b[38;5;241m=\u001b[39m \u001b[38;5;28mself\u001b[39m\u001b[38;5;241m.\u001b[39mclamiter\u001b[38;5;241m.\u001b[39mfit(\n\u001b[1;32m    383\u001b[0m                         \u001b[38;5;28mself\u001b[39m\u001b[38;5;241m.\u001b[39mdata, \n\u001b[1;32m    384\u001b[0m                         optimizer\u001b[38;5;241m=\u001b[39m\u001b[38;5;28mself\u001b[39m\u001b[38;5;241m.\u001b[39moptimizer, scheduler\u001b[38;5;241m=\u001b[39m\u001b[38;5;28mself\u001b[39m\u001b[38;5;241m.\u001b[39mscheduler,\n\u001b[1;32m    385\u001b[0m                         prior_fit_mask\u001b[38;5;241m=\u001b[39mprior_fit_mask,\n\u001b[1;32m    386\u001b[0m \n\u001b[1;32m    387\u001b[0m                         task\u001b[38;5;241m=\u001b[39m\u001b[38;5;28mself\u001b[39m\u001b[38;5;241m.\u001b[39mtask, \n\u001b[1;32m    388\u001b[0m                         acc_every\u001b[38;5;241m=\u001b[39macc_every, \n\u001b[1;32m    389\u001b[0m                         performance_metric\u001b[38;5;241m=\u001b[39mperformance_metric,\n\u001b[1;32m    390\u001b[0m                         configs_dict\u001b[38;5;241m=\u001b[39m\u001b[38;5;28mself\u001b[39m\u001b[38;5;241m.\u001b[39mconfigs_dict,\n\u001b[1;32m    391\u001b[0m \n\u001b[1;32m    392\u001b[0m                         plot_final_res\u001b[38;5;241m=\u001b[39m\u001b[38;5;28;01mFalse\u001b[39;00m,\n\u001b[1;32m    393\u001b[0m                         plot_every\u001b[38;5;241m=\u001b[39mplot_every,\n\u001b[1;32m    394\u001b[0m                         verbose\u001b[38;5;241m=\u001b[39mverbose,\n\u001b[1;32m    395\u001b[0m                         verbose_in_funcs\u001b[38;5;241m=\u001b[39mverbose_in_funcs,\n\u001b[1;32m    396\u001b[0m                         \u001b[38;5;241m*\u001b[39m\u001b[38;5;241m*\u001b[39mfit_opt_params,\n\u001b[1;32m    397\u001b[0m                         \n\u001b[1;32m    398\u001b[0m                         \u001b[38;5;241m*\u001b[39m\u001b[38;5;241m*\u001b[39mkwargs)\n\u001b[1;32m    401\u001b[0m \u001b[38;5;28;01mif\u001b[39;00m verbose:\n\u001b[1;32m    402\u001b[0m     printd(\u001b[38;5;124mf\u001b[39m\u001b[38;5;124m'\u001b[39m\u001b[38;5;130;01m\\n\u001b[39;00m\u001b[38;5;124mtrain_model_on_params on \u001b[39m\u001b[38;5;132;01m{\u001b[39;00m\u001b[38;5;28mself\u001b[39m\u001b[38;5;241m.\u001b[39mmodel_name\u001b[38;5;132;01m}\u001b[39;00m\u001b[38;5;124m \u001b[39m\u001b[38;5;132;01m{\u001b[39;00m\u001b[38;5;28mself\u001b[39m\u001b[38;5;241m.\u001b[39mdataset_name\u001b[38;5;132;01m}\u001b[39;00m\u001b[38;5;124m \u001b[39m\u001b[38;5;130;01m\\n\u001b[39;00m\u001b[38;5;124mtook \u001b[39m\u001b[38;5;132;01m{\u001b[39;00mtime\u001b[38;5;241m.\u001b[39mtime()\u001b[38;5;250m \u001b[39m\u001b[38;5;241m-\u001b[39m\u001b[38;5;250m \u001b[39mt_train_model\u001b[38;5;132;01m}\u001b[39;00m\u001b[38;5;124m seconds\u001b[39m\u001b[38;5;124m'\u001b[39m)\n",
      "File \u001b[0;32m~/Documents/danny/AAAI_pieclam/experiments/../clamiter.py:613\u001b[0m, in \u001b[0;36mPCLAMIter.fit\u001b[0;34m(self, graph, first_func_in_fit, optimizer, scheduler, n_back_forth, prior_fit_mask, plot_every, acc_every, early_stop_fit, early_stops, performance_metric, configs_dict, task, verbose_in_funcs, verbose, **params)\u001b[0m\n\u001b[1;32m    611\u001b[0m t_first \u001b[38;5;241m=\u001b[39m time\u001b[38;5;241m.\u001b[39mtime()\n\u001b[1;32m    612\u001b[0m \u001b[38;5;28;01mtry\u001b[39;00m:\n\u001b[0;32m--> 613\u001b[0m     losses_epoch_1st, accuracies_test_epoch_1st, accuracies_val_epoch_1st \u001b[38;5;241m=\u001b[39m first_func()\n\u001b[1;32m    614\u001b[0m \u001b[38;5;28;01mexcept\u001b[39;00m \u001b[38;5;167;01mValueError\u001b[39;00m \u001b[38;5;28;01mas\u001b[39;00m e:\n\u001b[1;32m    615\u001b[0m     printd(\u001b[38;5;124mf\u001b[39m\u001b[38;5;124m'\u001b[39m\u001b[38;5;130;01m\\n\u001b[39;00m\u001b[38;5;124mfit func. nerror in \u001b[39m\u001b[38;5;132;01m{\u001b[39;00mfirst_func_in_fit\u001b[38;5;132;01m}\u001b[39;00m\u001b[38;5;124m at iter \u001b[39m\u001b[38;5;132;01m{\u001b[39;00mi\u001b[38;5;132;01m}\u001b[39;00m\u001b[38;5;124m:\u001b[39m\u001b[38;5;130;01m\\n\u001b[39;00m\u001b[38;5;124m \u001b[39m\u001b[38;5;132;01m{\u001b[39;00me\u001b[38;5;132;01m}\u001b[39;00m\u001b[38;5;124m'\u001b[39m)\n",
      "File \u001b[0;32m~/Documents/danny/AAAI_pieclam/experiments/../clamiter.py:534\u001b[0m, in \u001b[0;36mPCLAMIter.fit.<locals>.<lambda>\u001b[0;34m()\u001b[0m\n\u001b[1;32m    522\u001b[0m     feat_params[\u001b[38;5;124m'\u001b[39m\u001b[38;5;124mearly_stop\u001b[39m\u001b[38;5;124m'\u001b[39m] \u001b[38;5;241m=\u001b[39m early_stops[\u001b[38;5;241m1\u001b[39m]\n\u001b[1;32m    525\u001b[0m fit_feats_func \u001b[38;5;241m=\u001b[39m \u001b[38;5;28;01mlambda\u001b[39;00m: \u001b[38;5;28mself\u001b[39m\u001b[38;5;241m.\u001b[39mfit_feats(\n\u001b[1;32m    526\u001b[0m                     graph, \n\u001b[1;32m    527\u001b[0m                     verbose\u001b[38;5;241m=\u001b[39mverbose_in_funcs,\n\u001b[0;32m   (...)\u001b[0m\n\u001b[1;32m    531\u001b[0m                     \u001b[38;5;241m*\u001b[39m\u001b[38;5;241m*\u001b[39mfeat_params,\n\u001b[1;32m    532\u001b[0m                     \u001b[38;5;241m*\u001b[39m\u001b[38;5;241m*\u001b[39mparams)\n\u001b[0;32m--> 534\u001b[0m fit_prior_func \u001b[38;5;241m=\u001b[39m \u001b[38;5;28;01mlambda\u001b[39;00m: \u001b[38;5;28mself\u001b[39m\u001b[38;5;241m.\u001b[39mfit_prior(\n\u001b[1;32m    535\u001b[0m                     graph\u001b[38;5;241m=\u001b[39mgraph, \n\u001b[1;32m    536\u001b[0m                     node_mask\u001b[38;5;241m=\u001b[39mprior_fit_mask,\n\u001b[1;32m    537\u001b[0m                     optimizer\u001b[38;5;241m=\u001b[39moptimizer,\n\u001b[1;32m    538\u001b[0m                     task\u001b[38;5;241m=\u001b[39mtask,\n\u001b[1;32m    539\u001b[0m                     acc_every\u001b[38;5;241m=\u001b[39macc_every,\n\u001b[1;32m    540\u001b[0m                     performance_metric\u001b[38;5;241m=\u001b[39mperformance_metric,\n\u001b[1;32m    541\u001b[0m                     verbose\u001b[38;5;241m=\u001b[39mverbose_in_funcs, \n\u001b[1;32m    542\u001b[0m                     \u001b[38;5;241m*\u001b[39m\u001b[38;5;241m*\u001b[39mprior_params,\n\u001b[1;32m    543\u001b[0m                     \u001b[38;5;241m*\u001b[39m\u001b[38;5;241m*\u001b[39mparams)\n\u001b[1;32m    545\u001b[0m \u001b[38;5;66;03m# FIRST AND SECOND PARAMS\u001b[39;00m\n\u001b[1;32m    547\u001b[0m second_function_name \u001b[38;5;241m=\u001b[39m \u001b[38;5;124m'\u001b[39m\u001b[38;5;124mfit_prior\u001b[39m\u001b[38;5;124m'\u001b[39m \u001b[38;5;28;01mif\u001b[39;00m first_func_in_fit \u001b[38;5;241m==\u001b[39m \u001b[38;5;124m'\u001b[39m\u001b[38;5;124mfit_feats\u001b[39m\u001b[38;5;124m'\u001b[39m \u001b[38;5;28;01melse\u001b[39;00m \u001b[38;5;124m'\u001b[39m\u001b[38;5;124mfit_feats\u001b[39m\u001b[38;5;124m'\u001b[39m\n",
      "File \u001b[0;32m~/Documents/danny/AAAI_pieclam/experiments/../clamiter.py:461\u001b[0m, in \u001b[0;36mPCLAMIter.fit_prior\u001b[0;34m(self, graph, n_iter, optimizer, node_mask, acc_every, weight_decay, task, performance_metric, early_stop, noise_amp, verbose, lr, plot_every, **kwargs)\u001b[0m\n\u001b[1;32m    441\u001b[0m \u001b[38;5;28;01mdef\u001b[39;00m \u001b[38;5;21mfit_prior\u001b[39m(\u001b[38;5;28mself\u001b[39m, \n\u001b[1;32m    442\u001b[0m               graph, \n\u001b[1;32m    443\u001b[0m               n_iter,\n\u001b[0;32m   (...)\u001b[0m\n\u001b[1;32m    455\u001b[0m               \u001b[38;5;241m*\u001b[39m\u001b[38;5;241m*\u001b[39mkwargs\n\u001b[1;32m    456\u001b[0m               ):\n\u001b[1;32m    457\u001b[0m \u001b[38;5;250m    \u001b[39m\u001b[38;5;124;03m'''\u001b[39;00m\n\u001b[1;32m    458\u001b[0m \u001b[38;5;124;03m    this function optimizes the model. \u001b[39;00m\n\u001b[1;32m    459\u001b[0m \u001b[38;5;124;03m    noise is added to the feature optimization and to the input nodes when training.\u001b[39;00m\n\u001b[1;32m    460\u001b[0m \u001b[38;5;124;03m    '''\u001b[39;00m \n\u001b[0;32m--> 461\u001b[0m     \u001b[38;5;28;01mreturn\u001b[39;00m \u001b[38;5;28mself\u001b[39m\u001b[38;5;241m.\u001b[39mfit_wrapper(graph\u001b[38;5;241m=\u001b[39mgraph,\n\u001b[1;32m    462\u001b[0m                             n_iter\u001b[38;5;241m=\u001b[39mn_iter, \n\u001b[1;32m    463\u001b[0m                             lr\u001b[38;5;241m=\u001b[39moptimizer\u001b[38;5;241m.\u001b[39mparam_groups[\u001b[38;5;241m0\u001b[39m][\u001b[38;5;124m'\u001b[39m\u001b[38;5;124mlr\u001b[39m\u001b[38;5;124m'\u001b[39m], \n\u001b[1;32m    464\u001b[0m                             task\u001b[38;5;241m=\u001b[39mtask,\n\u001b[1;32m    465\u001b[0m                             which_fit\u001b[38;5;241m=\u001b[39m\u001b[38;5;124m'\u001b[39m\u001b[38;5;124mfit_prior\u001b[39m\u001b[38;5;124m'\u001b[39m,\n\u001b[1;32m    466\u001b[0m                             noise_amp\u001b[38;5;241m=\u001b[39mnoise_amp,\n\u001b[1;32m    467\u001b[0m                             optimizer\u001b[38;5;241m=\u001b[39moptimizer,\n\u001b[1;32m    468\u001b[0m                             node_mask\u001b[38;5;241m=\u001b[39mnode_mask,\n\u001b[1;32m    469\u001b[0m                             performance_metric\u001b[38;5;241m=\u001b[39mperformance_metric,\n\u001b[1;32m    470\u001b[0m                             early_stop\u001b[38;5;241m=\u001b[39mearly_stop,\n\u001b[1;32m    471\u001b[0m                             cutoff\u001b[38;5;241m=\u001b[39m\u001b[38;5;241m0.0\u001b[39m, \n\u001b[1;32m    472\u001b[0m                             verbose\u001b[38;5;241m=\u001b[39mverbose,\n\u001b[1;32m    473\u001b[0m                             acc_every\u001b[38;5;241m=\u001b[39macc_every, \n\u001b[1;32m    474\u001b[0m                             plot_every\u001b[38;5;241m=\u001b[39mplot_every,\n\u001b[1;32m    475\u001b[0m                             \u001b[38;5;241m*\u001b[39m\u001b[38;5;241m*\u001b[39mkwargs)\n",
      "File \u001b[0;32m~/Documents/danny/AAAI_pieclam/experiments/../clamiter.py:359\u001b[0m, in \u001b[0;36mPCLAMIter.fit_wrapper\u001b[0;34m(self, graph, n_iter, lr, task, which_fit, early_stop, cutoff, verbose, acc_every, plot_every, **kwargs)\u001b[0m\n\u001b[1;32m    357\u001b[0m \u001b[38;5;28;01mfor\u001b[39;00m i \u001b[38;5;129;01min\u001b[39;00m \u001b[38;5;28mrange\u001b[39m(n_iter):\n\u001b[1;32m    358\u001b[0m     \u001b[38;5;28;01mtry\u001b[39;00m:\n\u001b[0;32m--> 359\u001b[0m         loss \u001b[38;5;241m=\u001b[39m iter_step()\n\u001b[1;32m    360\u001b[0m         losses\u001b[38;5;241m.\u001b[39mappend(loss\u001b[38;5;241m.\u001b[39mitem())\n\u001b[1;32m    361\u001b[0m     \u001b[38;5;28;01mexcept\u001b[39;00m \u001b[38;5;167;01mValueError\u001b[39;00m \u001b[38;5;28;01mas\u001b[39;00m e:\n",
      "File \u001b[0;32m~/Documents/danny/AAAI_pieclam/experiments/../clamiter.py:288\u001b[0m, in \u001b[0;36mPCLAMIter.fit_wrapper.<locals>.iter_step_prior\u001b[0;34m()\u001b[0m\n\u001b[1;32m    286\u001b[0m \u001b[38;5;28;01mdef\u001b[39;00m \u001b[38;5;21miter_step_prior\u001b[39m():\n\u001b[1;32m    287\u001b[0m     optimizer\u001b[38;5;241m.\u001b[39mzero_grad()\n\u001b[0;32m--> 288\u001b[0m     log_likelihood \u001b[38;5;241m=\u001b[39m \u001b[38;5;28mself\u001b[39m\u001b[38;5;241m.\u001b[39mprior\u001b[38;5;241m.\u001b[39mforward_ll(feat_for_prior, noise_amp,\u001b[38;5;28msum\u001b[39m\u001b[38;5;241m=\u001b[39m\u001b[38;5;28;01mFalse\u001b[39;00m)\n\u001b[1;32m    289\u001b[0m     ll_loss \u001b[38;5;241m=\u001b[39m \u001b[38;5;241m-\u001b[39mtorch\u001b[38;5;241m.\u001b[39msum(log_likelihood)\n\u001b[1;32m    290\u001b[0m     loss \u001b[38;5;241m=\u001b[39m ll_loss\n",
      "File \u001b[0;32m~/Documents/danny/AAAI_pieclam/experiments/../transformation.py:360\u001b[0m, in \u001b[0;36mRealNVP.forward_ll\u001b[0;34m(self, x, noise_amp, sum)\u001b[0m\n\u001b[1;32m    357\u001b[0m     x \u001b[38;5;241m=\u001b[39m x\u001b[38;5;241m.\u001b[39munsqueeze(\u001b[38;5;241m0\u001b[39m)\n\u001b[1;32m    358\u001b[0m z, log_q \u001b[38;5;241m=\u001b[39m \u001b[38;5;28mself\u001b[39m\u001b[38;5;241m.\u001b[39mbackward_xz(x, noise_amp)\n\u001b[0;32m--> 360\u001b[0m log_prob \u001b[38;5;241m=\u001b[39m \u001b[38;5;28mself\u001b[39m\u001b[38;5;241m.\u001b[39mmodel\u001b[38;5;241m.\u001b[39mq0\u001b[38;5;241m.\u001b[39mlog_prob(z) \u001b[38;5;241m+\u001b[39m log_q\n\u001b[1;32m    361\u001b[0m \u001b[38;5;28;01mif\u001b[39;00m \u001b[38;5;28msum\u001b[39m:\n\u001b[1;32m    362\u001b[0m     \u001b[38;5;28;01mreturn\u001b[39;00m torch\u001b[38;5;241m.\u001b[39msum(log_prob)\n",
      "File \u001b[0;32m~/anaconda3/envs/piegam/lib/python3.11/site-packages/normflows/distributions/base.py:100\u001b[0m, in \u001b[0;36mDiagGaussian.log_prob\u001b[0;34m(self, z, context)\u001b[0m\n\u001b[1;32m     97\u001b[0m \u001b[38;5;28;01melse\u001b[39;00m:\n\u001b[1;32m     98\u001b[0m     log_scale \u001b[38;5;241m=\u001b[39m \u001b[38;5;28mself\u001b[39m\u001b[38;5;241m.\u001b[39mlog_scale \u001b[38;5;241m+\u001b[39m np\u001b[38;5;241m.\u001b[39mlog(\u001b[38;5;28mself\u001b[39m\u001b[38;5;241m.\u001b[39mtemperature)\n\u001b[1;32m     99\u001b[0m log_p \u001b[38;5;241m=\u001b[39m \u001b[38;5;241m-\u001b[39m\u001b[38;5;241m0.5\u001b[39m \u001b[38;5;241m*\u001b[39m \u001b[38;5;28mself\u001b[39m\u001b[38;5;241m.\u001b[39md \u001b[38;5;241m*\u001b[39m np\u001b[38;5;241m.\u001b[39mlog(\u001b[38;5;241m2\u001b[39m \u001b[38;5;241m*\u001b[39m np\u001b[38;5;241m.\u001b[39mpi) \u001b[38;5;241m-\u001b[39m torch\u001b[38;5;241m.\u001b[39msum(\n\u001b[0;32m--> 100\u001b[0m     log_scale \u001b[38;5;241m+\u001b[39m \u001b[38;5;241m0.5\u001b[39m \u001b[38;5;241m*\u001b[39m torch\u001b[38;5;241m.\u001b[39mpow((z \u001b[38;5;241m-\u001b[39m \u001b[38;5;28mself\u001b[39m\u001b[38;5;241m.\u001b[39mloc) \u001b[38;5;241m/\u001b[39m torch\u001b[38;5;241m.\u001b[39mexp(log_scale), \u001b[38;5;241m2\u001b[39m),\n\u001b[1;32m    101\u001b[0m     \u001b[38;5;28mlist\u001b[39m(\u001b[38;5;28mrange\u001b[39m(\u001b[38;5;241m1\u001b[39m, \u001b[38;5;28mself\u001b[39m\u001b[38;5;241m.\u001b[39mn_dim \u001b[38;5;241m+\u001b[39m \u001b[38;5;241m1\u001b[39m)),\n\u001b[1;32m    102\u001b[0m )\n\u001b[1;32m    103\u001b[0m \u001b[38;5;28;01mreturn\u001b[39;00m log_p\n",
      "\u001b[0;31mKeyboardInterrupt\u001b[0m: "
     ]
    }
   ],
   "source": [
    "\n",
    "#DECIDE ON A MODEL AND DATASET\n",
    "model_name = 'pieclam'\n",
    "ds_name = 'squirrel'\n",
    "\n",
    "# SET RANGE PARAMETERS\n",
    "s_regs = [0.0]\n",
    "l1_regs = [1.0]\n",
    "dim_feats = [22]\n",
    "n_iters_feats = [2000]\n",
    "lr_feats = [0.000004]\n",
    "first_funcs_in_fit = ['fit_prior']\n",
    "n_iters_prior = [2000]\n",
    "lr_prior = [0.000005]\n",
    "noise_amps = [0.05]\n",
    "n_back_forth = [7]\n",
    "use_global_config_base = True\n",
    "densify = False\n",
    "attr_opt = False\n",
    "test_p = 0.1\n",
    "val_p = 0.0\n",
    "n_reps = 30\n",
    "\n",
    "\n",
    "range_triplets = [\n",
    "    ['clamiter_init','s_reg', s_regs],\n",
    "    ['clamiter_init','l1_reg', l1_regs],\n",
    "    ['clamiter_init', 'dim_feat', dim_feats],\n",
    "    ['feat_opt','n_iter', n_iters_feats],\n",
    "    ['feat_opt','lr', lr_feats],\n",
    "]\n",
    "\n",
    "if model_name in ['pclam', 'pieclam']:\n",
    "    range_triplets += [\n",
    "        ['back_forth', 'first_func_in_fit', first_funcs_in_fit],\n",
    "        ['prior_opt','n_iter', n_iters_prior],\n",
    "        ['prior_opt','lr', lr_prior],\n",
    "        ['prior_opt','noise_amp', noise_amps],\n",
    "        ['back_forth','n_back_forth', n_back_forth]\n",
    "    ]\n",
    "\n",
    "#RUN CROSS VALIDATION ON THE DATASET WITH THE MODEL\n",
    "#TODO: take test p before the cross val link\n",
    "ou.cross_val_link(\n",
    "    ds_name=ds_name,\n",
    "    model_name=model_name,\n",
    "    range_triplets=range_triplets,\n",
    "    use_global_config_base=use_global_config_base,\n",
    "    densify=densify,\n",
    "    attr_opt=attr_opt,\n",
    "    test_p=test_p,\n",
    "    val_p=val_p,\n",
    "    n_reps=n_reps,\n",
    "    device=device\n",
    "    )\n",
    "\n",
    "#remember that log cut we measure is for some d. basically there is d for which but what does it even matter that the log cut goes down, why does it matter... because it says something about the approximation. it's an indication of how similar \n"
   ]
  },
  {
   "cell_type": "code",
   "execution_count": null,
   "metadata": {},
   "outputs": [],
   "source": []
  }
 ],
 "metadata": {
  "kernelspec": {
   "display_name": "piegam",
   "language": "python",
   "name": "python3"
  },
  "language_info": {
   "codemirror_mode": {
    "name": "ipython",
    "version": 3
   },
   "file_extension": ".py",
   "mimetype": "text/x-python",
   "name": "python",
   "nbconvert_exporter": "python",
   "pygments_lexer": "ipython3",
   "version": "3.11.5"
  }
 },
 "nbformat": 4,
 "nbformat_minor": 2
}
