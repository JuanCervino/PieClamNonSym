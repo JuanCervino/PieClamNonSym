{
 "cells": [
  {
   "cell_type": "code",
   "execution_count": null,
   "metadata": {},
   "outputs": [
    {
     "name": "stdout",
     "output_type": "stream",
     "text": [
      "device = cuda\n"
     ]
    }
   ],
   "source": [
    "import os\n",
    "\n",
    "import torch\n",
    "import matplotlib.pyplot as plt\n",
    "import networkx as nx\n",
    "import collections\n",
    "\n",
    "from copy import deepcopy\n",
    "\n",
    "# local\n",
    "import optimization_utils as ou\n",
    "\n",
    "import sys\n",
    "if '..' not in sys.path:\n",
    "    sys.path.insert(0, '..')\n",
    "\n",
    "\n",
    "from datasets.import_dataset import import_dataset\n",
    "from trainer import Trainer\n",
    "from utils.plotting import *\n",
    "from utils import utils\n",
    "from utils import utils_pyg as up\n",
    "import datasets.simulations as sim\n",
    "import link_prediction as lp\n",
    "\n",
    "\n",
    "\n",
    "\n",
    "device = torch.device('cuda' if torch.cuda.is_available() else 'cpu')\n",
    "print(f'device = {device}')\n",
    "\n",
    "\n",
    "%load_ext autoreload\n",
    "%autoreload 2"
   ]
  },
  {
   "cell_type": "code",
   "execution_count": 13,
   "metadata": {},
   "outputs": [
    {
     "name": "stdout",
     "output_type": "stream",
     "text": [
      "\n",
      "\n",
      "/home/user/Documents/danny/AAAI_pieclam/experiments/optimization_utils.py:302:::  \n",
      "\n",
      "Finished CrossVal!\n",
      "\n",
      "\n"
     ]
    },
    {
     "ename": "TypeError",
     "evalue": "Trainer.__init__() got an unexpected keyword argument 'd'",
     "output_type": "error",
     "traceback": [
      "\u001b[0;31m---------------------------------------------------------------------------\u001b[0m",
      "\u001b[0;31mTypeError\u001b[0m                                 Traceback (most recent call last)",
      "Cell \u001b[0;32mIn[13], line 43\u001b[0m\n\u001b[1;32m     33\u001b[0m     range_triplets \u001b[38;5;241m+\u001b[39m\u001b[38;5;241m=\u001b[39m [\n\u001b[1;32m     34\u001b[0m         [\u001b[38;5;124m'\u001b[39m\u001b[38;5;124mback_forth\u001b[39m\u001b[38;5;124m'\u001b[39m, \u001b[38;5;124m'\u001b[39m\u001b[38;5;124mfirst_func_in_fit\u001b[39m\u001b[38;5;124m'\u001b[39m, first_funcs_in_fit],\n\u001b[1;32m     35\u001b[0m         [\u001b[38;5;124m'\u001b[39m\u001b[38;5;124mprior_opt\u001b[39m\u001b[38;5;124m'\u001b[39m,\u001b[38;5;124m'\u001b[39m\u001b[38;5;124mn_iter\u001b[39m\u001b[38;5;124m'\u001b[39m, n_iters_prior],\n\u001b[0;32m   (...)\u001b[0m\n\u001b[1;32m     38\u001b[0m         [\u001b[38;5;124m'\u001b[39m\u001b[38;5;124mback_forth\u001b[39m\u001b[38;5;124m'\u001b[39m,\u001b[38;5;124m'\u001b[39m\u001b[38;5;124mn_back_forth\u001b[39m\u001b[38;5;124m'\u001b[39m, n_back_forth]\n\u001b[1;32m     39\u001b[0m     ]\n\u001b[1;32m     41\u001b[0m \u001b[38;5;66;03m#RUN CROSS VALIDATION ON THE DATASET WITH THE MODEL\u001b[39;00m\n\u001b[1;32m     42\u001b[0m \u001b[38;5;66;03m#TODO: take test p before the cross val link\u001b[39;00m\n\u001b[0;32m---> 43\u001b[0m ou\u001b[38;5;241m.\u001b[39mcross_val_link(\n\u001b[1;32m     44\u001b[0m     ds_name\u001b[38;5;241m=\u001b[39mds_name,\n\u001b[1;32m     45\u001b[0m     model_name\u001b[38;5;241m=\u001b[39mmodel_name,\n\u001b[1;32m     46\u001b[0m     range_triplets\u001b[38;5;241m=\u001b[39mrange_triplets,\n\u001b[1;32m     47\u001b[0m     global_config_base\u001b[38;5;241m=\u001b[39mglobal_config_base,\n\u001b[1;32m     48\u001b[0m     densify\u001b[38;5;241m=\u001b[39mdensify,\n\u001b[1;32m     49\u001b[0m     attr_opt\u001b[38;5;241m=\u001b[39mattr_opt,\n\u001b[1;32m     50\u001b[0m     test_p\u001b[38;5;241m=\u001b[39mtest_p,\n\u001b[1;32m     51\u001b[0m     val_p\u001b[38;5;241m=\u001b[39mval_p,\n\u001b[1;32m     52\u001b[0m     n_reps\u001b[38;5;241m=\u001b[39mn_reps,\n\u001b[1;32m     53\u001b[0m     device\u001b[38;5;241m=\u001b[39mdevice\n\u001b[1;32m     54\u001b[0m     )\n",
      "File \u001b[0;32m~/Documents/danny/AAAI_pieclam/experiments/optimization_utils.py:293\u001b[0m, in \u001b[0;36mcross_val_link\u001b[0;34m(ds_name, model_name, range_triplets, n_reps, global_config_base, densify, test_p, val_p, device, test_dyads_to_omit, attr_opt, plot_every)\u001b[0m\n\u001b[1;32m    291\u001b[0m except Exception as e:\n\u001b[1;32m    292\u001b[0m     raise e\n\u001b[0;32m--> 293\u001b[0m finally:\n\u001b[1;32m    294\u001b[0m     if ds is not None:\n\u001b[1;32m    295\u001b[0m         del ds\n",
      "File \u001b[0;32m~/Documents/danny/AAAI_pieclam/experiments/optimization_utils.py:256\u001b[0m, in \u001b[0;36mcross_val_link\u001b[0;34m(ds_name, model_name, range_triplets, n_reps, global_config_base, densify, test_p, val_p, device, test_dyads_to_omit, attr_opt, plot_every)\u001b[0m\n\u001b[1;32m    244\u001b[0m config_triplets \u001b[38;5;241m=\u001b[39m [\n\u001b[1;32m    245\u001b[0m     [outers[i], inners[i], values[i]] \u001b[38;5;28;01mfor\u001b[39;00m i \u001b[38;5;129;01min\u001b[39;00m \u001b[38;5;28mrange\u001b[39m(\u001b[38;5;28mlen\u001b[39m(range_triplets))\n\u001b[1;32m    246\u001b[0m             ]\n\u001b[1;32m    247\u001b[0m \u001b[38;5;66;03m# if model_name in {'iegam', 'piegam'}:\u001b[39;00m\n\u001b[1;32m    248\u001b[0m \u001b[38;5;66;03m#     if 's_reg' in inners:\u001b[39;00m\n\u001b[1;32m    249\u001b[0m \u001b[38;5;66;03m#         ind_s = inners.index('s_reg')\u001b[39;00m\n\u001b[1;32m    250\u001b[0m \u001b[38;5;66;03m#         config_triplets.append([outers[ind_s], inners[ind_s], values[ind_s]])\u001b[39;00m\n\u001b[0;32m--> 256\u001b[0m trainer \u001b[38;5;241m=\u001b[39m Trainer(\n\u001b[1;32m    257\u001b[0m             dataset\u001b[38;5;241m=\u001b[39mds_test_val_omitted,\n\u001b[1;32m    258\u001b[0m             model_name\u001b[38;5;241m=\u001b[39mmodel_name,\n\u001b[1;32m    259\u001b[0m             task\u001b[38;5;241m=\u001b[39m\u001b[38;5;124m'\u001b[39m\u001b[38;5;124mdistance\u001b[39m\u001b[38;5;124m'\u001b[39m,\n\u001b[1;32m    260\u001b[0m             config_triplets_to_change\u001b[38;5;241m=\u001b[39mconfig_triplets,\n\u001b[1;32m    261\u001b[0m             mighty_configs_dict\u001b[38;5;241m=\u001b[39mglobal_config_base,\n\u001b[1;32m    262\u001b[0m             attr_opt\u001b[38;5;241m=\u001b[39m\u001b[38;5;28;01mFalse\u001b[39;00m,\n\u001b[1;32m    263\u001b[0m             device\u001b[38;5;241m=\u001b[39mdevice,\n\u001b[1;32m    264\u001b[0m )\n\u001b[1;32m    266\u001b[0m losses, acc_test, acc_val \u001b[38;5;241m=\u001b[39m trainer\u001b[38;5;241m.\u001b[39mtrain(\n\u001b[1;32m    267\u001b[0m             init_type\u001b[38;5;241m=\u001b[39m\u001b[38;5;124m'\u001b[39m\u001b[38;5;124msmall_gaus\u001b[39m\u001b[38;5;124m'\u001b[39m,\n\u001b[1;32m    268\u001b[0m             init_feats\u001b[38;5;241m=\u001b[39m\u001b[38;5;28;01mTrue\u001b[39;00m,\n\u001b[0;32m   (...)\u001b[0m\n\u001b[1;32m    272\u001b[0m             verbose_in_funcs\u001b[38;5;241m=\u001b[39m\u001b[38;5;28;01mFalse\u001b[39;00m\n\u001b[1;32m    273\u001b[0m         )\n\u001b[1;32m    274\u001b[0m \u001b[38;5;66;03m#todo: i need a way to print nothing. verbose should be a number between 0 and 2. verbose 2 is the verbose we have now. verbose 1 is the not verbose we have now. verbose 0 is print nothing nothing.\u001b[39;00m\n\u001b[1;32m    275\u001b[0m \u001b[38;5;66;03m#todo: change iegam to ieclam everywhere.\u001b[39;00m\n",
      "\u001b[0;31mTypeError\u001b[0m: Trainer.__init__() got an unexpected keyword argument 'd'"
     ]
    }
   ],
   "source": [
    "\n",
    "#DECIDE ON A MODEL AND DATASET\n",
    "model_name = 'piegam'\n",
    "ds_name = 'texas'\n",
    "\n",
    "# SET RANGE PARAMETERS\n",
    "s_regs = [0.0]\n",
    "l1_regs = [1.0]\n",
    "dim_feats = [22]\n",
    "n_iters_feats = [2000]\n",
    "lr_feats = [0.000004]\n",
    "first_funcs_in_fit = ['fit_prior']\n",
    "n_iters_prior = [2000]\n",
    "lr_prior = [0.000005]\n",
    "noise_amps = [0.05]\n",
    "n_back_forth = [7]\n",
    "global_config_base = True\n",
    "densify = False\n",
    "attr_opt = False\n",
    "test_p = 0.1\n",
    "val_p = 0.0\n",
    "n_reps = 30\n",
    "\n",
    "\n",
    "range_triplets = [\n",
    "    ['clamiter_init','s_reg', s_regs],\n",
    "    ['clamiter_init','l1_reg', l1_regs],\n",
    "    ['clamiter_init', 'dim_feat', dim_feats],\n",
    "    ['feat_opt','n_iter', n_iters_feats],\n",
    "    ['feat_opt','lr', lr_feats],\n",
    "]\n",
    "\n",
    "if model_name in ['pclam', 'piegam']:\n",
    "    range_triplets += [\n",
    "        ['back_forth', 'first_func_in_fit', first_funcs_in_fit],\n",
    "        ['prior_opt','n_iter', n_iters_prior],\n",
    "        ['prior_opt','lr', lr_prior],\n",
    "        ['prior_opt','noise_amp', noise_amps],\n",
    "        ['back_forth','n_back_forth', n_back_forth]\n",
    "    ]\n",
    "\n",
    "#RUN CROSS VALIDATION ON THE DATASET WITH THE MODEL\n",
    "#TODO: take test p before the cross val link\n",
    "ou.cross_val_link(\n",
    "    ds_name=ds_name,\n",
    "    model_name=model_name,\n",
    "    range_triplets=range_triplets,\n",
    "    global_config_base=global_config_base,\n",
    "    densify=densify,\n",
    "    attr_opt=attr_opt,\n",
    "    test_p=test_p,\n",
    "    val_p=val_p,\n",
    "    n_reps=n_reps,\n",
    "    device=device\n",
    "    )\n",
    "\n",
    "#remember that log cut we measure is for some d. basically there is d for which but what does it even matter that the log cut goes down, why does it matter... because it says something about the approximation. it's an indication of how similar \n"
   ]
  },
  {
   "cell_type": "code",
   "execution_count": null,
   "metadata": {},
   "outputs": [],
   "source": []
  }
 ],
 "metadata": {
  "kernelspec": {
   "display_name": "piegam",
   "language": "python",
   "name": "python3"
  },
  "language_info": {
   "codemirror_mode": {
    "name": "ipython",
    "version": 3
   },
   "file_extension": ".py",
   "mimetype": "text/x-python",
   "name": "python",
   "nbconvert_exporter": "python",
   "pygments_lexer": "ipython3",
   "version": "3.11.5"
  }
 },
 "nbformat": 4,
 "nbformat_minor": 2
}
