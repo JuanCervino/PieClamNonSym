{
 "cells": [
  {
   "cell_type": "code",
   "execution_count": null,
   "metadata": {},
   "outputs": [],
   "source": [
    "import torch\n",
    "\n",
    "\n",
    "\n",
    "import sys\n",
    "if '..' not in sys.path:\n",
    "    sys.path.insert(0, '..')\n",
    "\n",
    "from datasets.import_dataset import import_dataset\n",
    "from trainer import Trainer\n",
    "from utils.plotting import *\n",
    "\n",
    "device = torch.device('cuda' if torch.cuda.is_available() else 'cpu')\n",
    "\n",
    "%load_ext autoreload\n",
    "%autoreload 2\n"
   ]
  },
  {
   "cell_type": "code",
   "execution_count": null,
   "metadata": {},
   "outputs": [],
   "source": [
    "data_sbm3x3 = import_dataset('sbm3x3')\n",
    "\n",
    "config_triplets = [\n",
    "    ['clamiter_init', 'dim_feat', 2],\n",
    "    ['feat_opt', 'n_iter', 10000]\n",
    "]\n",
    "\n",
    "trainer_bigclam_sbm3x3 = Trainer(\n",
    "    dataset=data_sbm3x3, \n",
    "    model_name='bigclam',\n",
    "    config_triplets_to_change=config_triplets,\n",
    "    device=device)\n",
    "\n",
    "trainer_bigclam_sbm3x3.train()"
   ]
  },
  {
   "cell_type": "code",
   "execution_count": null,
   "metadata": {},
   "outputs": [],
   "source": [
    "data_bipart = import_dataset('bipartite')\n",
    "plot_sparse_adj(edge_index=data_bipart.edge_index)"
   ]
  },
  {
   "cell_type": "code",
   "execution_count": null,
   "metadata": {},
   "outputs": [],
   "source": [
    "\n",
    "config_triplets=[\n",
    "# ['feat_opt', 'lr', 0.001],\n",
    "# ['clamiter_init', 'l1_reg', 0.05],\n",
    "# ['feat_opt', 'n_iter', 50000]\n",
    "\n",
    "]\n",
    "\n",
    "trainer_bigclam_bipart = Trainer(dataset=data_bipart, \n",
    "                                 model_name='bigclam',\n",
    "                                 device='cpu',\n",
    "                                 config_triplets_to_change=config_triplets,\n",
    "                                 global_configs_dict=False\n",
    "                                )\n",
    "\n",
    "_ = trainer_bigclam_bipart.train(plot_every=100000)\n",
    "\n",
    "trainer_bigclam_bipart.plot_state(things_to_plot=['adj', '2dgraphs', 'feats'], node_size_factor=1)\n"
   ]
  },
  {
   "cell_type": "code",
   "execution_count": null,
   "metadata": {},
   "outputs": [],
   "source": [
    "trainer_ieclam_bipart.plot_state(things_to_plot=['adj', '2dgraphs', 'feats'], draw_edges=True)"
   ]
  },
  {
   "cell_type": "code",
   "execution_count": null,
   "metadata": {},
   "outputs": [],
   "source": [
    "\n",
    "config_triplets=[\n",
    "# ['clamiter_init', 'dim_feat', 2],\n",
    "\n",
    "]\n",
    "\n",
    "trainer_ieclam_bipart = Trainer(dataset=data_bipart, \n",
    "                                 model_name='ieclam',\n",
    "                                 device='cpu',\n",
    "                                 config_triplets_to_change=config_triplets,\n",
    "                                 global_configs_dict=False\n",
    "                                )\n",
    "\n",
    "_ = trainer_ieclam_bipart.train(plot_every=100000)\n",
    "trainer_ieclam_bipart.plot_state(things_to_plot=['adj', '2dgraphs', 'feats'], draw_edges=True)"
   ]
  }
 ],
 "metadata": {
  "kernelspec": {
   "display_name": "piegam",
   "language": "python",
   "name": "python3"
  },
  "language_info": {
   "codemirror_mode": {
    "name": "ipython",
    "version": 3
   },
   "file_extension": ".py",
   "mimetype": "text/x-python",
   "name": "python",
   "nbconvert_exporter": "python",
   "pygments_lexer": "ipython3",
   "version": "3.11.5"
  }
 },
 "nbformat": 4,
 "nbformat_minor": 2
}
