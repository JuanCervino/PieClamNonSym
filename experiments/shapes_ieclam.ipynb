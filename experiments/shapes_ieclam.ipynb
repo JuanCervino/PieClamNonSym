{
 "cells": [
  {
   "cell_type": "code",
   "execution_count": null,
   "metadata": {},
   "outputs": [],
   "source": [
    "import torch\n",
    "import matplotlib.pyplot as plt\n",
    "# local\n",
    "import sys\n",
    "if '..' not in sys.path:\n",
    "    sys.path.insert(0, '..')\n",
    "\n",
    "from datasets.import_dataset import import_dataset\n",
    "from trainer import Trainer\n",
    "import clamiter as ci\n",
    "from transformation import RealNVP, train_prior, get_cov\n",
    "from utils.plotting import *\n",
    "import datasets.simulations as sim\n",
    "\n",
    "device = torch.device('cuda' if torch.cuda.is_available() else 'cpu')\n",
    "print(f'device = {device}')\n",
    "\n",
    "\n",
    "%load_ext autoreload\n",
    "%autoreload 2"
   ]
  },
  {
   "cell_type": "code",
   "execution_count": null,
   "metadata": {},
   "outputs": [],
   "source": [
    "%who"
   ]
  },
  {
   "cell_type": "markdown",
   "metadata": {},
   "source": [
    "# Exotic Shapes\n"
   ]
  },
  {
   "cell_type": "markdown",
   "metadata": {},
   "source": [
    "##  IE Space"
   ]
  },
  {
   "cell_type": "code",
   "execution_count": null,
   "metadata": {},
   "outputs": [],
   "source": [
    "\n",
    "num_samples = 500\n",
    "\n",
    "#* two moons\n",
    "graph_two_moons, dist_two_moons = sim.sample_normflows_dist(num_samples, 'TwoMoons', lorenz=True)\n",
    "\n",
    "# #* circular gaussian mixture\n",
    "graph_circ_gaus, dist_circ_gaus = sim.sample_normflows_dist(num_samples, 'Circ', lorenz=True)\n",
    "\n",
    "\n",
    "\n",
    "_, axes_moons = plt.subplots(1, 2, figsize=(6, 3))\n",
    "plot_normflows_dist(dist_two_moons, lorenz=True, x_fig_lim=[0, 2.7], y_fig_lim=[-1.7,1.7], ax=axes_moons[0])\n",
    "\n",
    "plot_2dgraph(graph_two_moons, \n",
    "             lorenz_fig_lims=True, \n",
    "             ax=axes_moons[1],\n",
    "             draw_edges=True)\n",
    "\n",
    "# plot_normflows_dist(dist_two_moons,shift=-0.5, scale=5, device=device, x_fig_lim=[-0.1, 1.1], ax=axes_moons[0])\n",
    "\n",
    "_, axes_circ = plt.subplots(1, 2, figsize=(6, 3))\n",
    "\n",
    "plot_normflows_dist(dist_circ_gaus,lorenz=True, x_fig_lim=[0, 2.7],y_fig_lim=[-1.7,1.7], ax=axes_circ[0])\n",
    "\n",
    "plot_2dgraph(graph_circ_gaus, \n",
    "             lorenz_fig_lims=True, \n",
    "             ax=axes_circ[1],\n",
    "             draw_edges=True)\n",
    "\n",
    "# plot_normflows_dist(dist_circ_gaus,shift=-0.5, scale=5, device=device, x_fig_lim=[-0.1, 1.1], ax=axes_circ[0])\n",
    "\n",
    "\n",
    "# _, axes_chubs = plt.subplots(1, 2, figsize=(6, 3))\n",
    "# plot_2dgraph(graph_two_chubs, lorenz_fig_lims=False, x_fig_lim=[-0.1, 1.1], ax=axes_chubs[0])\n",
    "# plot_normflows_dist(dist_two_chubs,shift=-0.5, scale=5, device=device, x_fig_lim=[-0.1, 1.1], ax=axes_chubs[0])\n",
    "# plot_normflows_dist(dist_two_chubs,shift=-0.5, scale=5, device=device, x_fig_lim=[-0.1, 1.1], ax=axes_chubs[1])\n",
    "\n",
    "\n"
   ]
  },
  {
   "cell_type": "markdown",
   "metadata": {},
   "source": [
    "### IECLAM"
   ]
  },
  {
   "cell_type": "code",
   "execution_count": null,
   "metadata": {},
   "outputs": [],
   "source": [
    "config_triplets = [ #* example how to change configs\n",
    "                    ['feat_opt', 'n_iter', 200],\n",
    "#                     ['feat_opt', 'lr', 0.00005],\n",
    "#                     ['prior_opt', 'n_iter', 1500],\n",
    "#                     ['prior_opt', 'lr', 0.0000005],\n",
    "#                     ['prior_opt', 'noise_amp', 0.25],\n",
    "#                     ['back_forth','n_back_forth', 50],\n",
    "#                     ['back_forth', 'first_func_in_fit', 'feat_opt']\n",
    "                ]\n",
    "\n",
    "trainer_ieclam_twomoons = Trainer(\n",
    "                model_name='ieclam',\n",
    "                task=None,\n",
    "                device=device,\n",
    "                dataset=graph_two_moons.clone()\n",
    ")\n",
    "# i want to optimize the trainer\n",
    "losses_moons_ieclam, test_acc_moons_ieclam, val_acc_moons_ieclam = trainer_ieclam_twomoons.train(\n",
    "    init_feats=True,\n",
    "    init_type='small_gaus',\n",
    "    plot_every=-1,\n",
    "    verbose=False\n",
    ")\n",
    "\n",
    "del trainer_ieclam_twomoons.data"
   ]
  },
  {
   "cell_type": "markdown",
   "metadata": {},
   "source": [
    "### PieClam"
   ]
  },
  {
   "cell_type": "markdown",
   "metadata": {},
   "source": [
    "#### Two Moons"
   ]
  },
  {
   "cell_type": "code",
   "execution_count": null,
   "metadata": {},
   "outputs": [],
   "source": [
    "config_triplets = [ #* example how to change configs\n",
    "                    # ['feat_opt', 'n_iter', 200],\n",
    "                    ['feat_opt', 'lr', 0.0001],\n",
    "                    # ['prior_opt', 'n_iter', 150],\n",
    "                    # ['prior_opt', 'lr', 0.00005],\n",
    "                    # ['prior_opt', 'noise_amp', 0.25],\n",
    "                    # ['back_forth','n_back_forth', 20],\n",
    "                    # ['back_forth', 'first_func_in_fit', 'fit_feats']\n",
    "                ]\n",
    "\n",
    "\n",
    "trainer_pieclam_twomoons = Trainer(\n",
    "                model_name='pieclam',\n",
    "                task=None,\n",
    "                device=device,\n",
    "                config_triplets_to_change=config_triplets,\n",
    "                dataset=graph_two_moons.clone()\n",
    ")\n",
    "# i want to optimize the trainer\n",
    "losses_pieclam_moons, test_acc_moons, val_acc_moons = trainer_pieclam_twomoons.train(\n",
    "    plot_every=1,\n",
    "    init_feats=True,\n",
    "    init_type='small_gaus',\n",
    "    verbose=False,\n",
    "    verbose_in_funcs=False,\n",
    "    draw_nodes_on_prior=False\n",
    ")\n",
    "\n",
    "del trainer_pieclam_twomoons.data\n",
    "del trainer_pieclam_twomoons.clamiter.prior\n"
   ]
  },
  {
   "cell_type": "markdown",
   "metadata": {},
   "source": [
    "#### Circle"
   ]
  },
  {
   "cell_type": "code",
   "execution_count": null,
   "metadata": {},
   "outputs": [],
   "source": [
    "config_triplets = [\n",
    "                    # ['feat_opt', 'n_iter', 2000],\n",
    "#                     ['feat_opt', 'lr', 0.00005],\n",
    "#                     ['prior_opt', 'n_iter', 1500],\n",
    "#                     ['prior_opt', 'lr', 0.0000005],\n",
    "#                     ['prior_opt', 'noise_amp', 0.25],\n",
    "#                     ['back_forth','n_back_forth', 50],\n",
    "#                     ['back_forth', 'first_func_in_fit', 'feat_opt']\n",
    "                ]\n",
    "\n",
    "\n",
    "\n",
    "trainer_ieclam_circ = Trainer(\n",
    "                model_name='ieclam',\n",
    "                task=None,\n",
    "                device=device,\n",
    "                config_triplets_to_change=config_triplets,\n",
    "                dataset=graph_circ_gaus.clone()\n",
    ")\n",
    "\n",
    "losses_ieclam_circ, acc_test_ieclam_circ, acc_val_ieclam_circ = trainer_ieclam_circ.train(\n",
    "    task_params={'d' : 0.2},\n",
    "    plot_every=-1,\n",
    "    init_feats=True,\n",
    "    init_type='small_gaus',\n",
    "    verbose=False,\n",
    "    verbose_in_funcs=False,\n",
    "    draw_nodes_on_prior=False\n",
    ")\n",
    "\n",
    "del trainer_ieclam_circ.data"
   ]
  },
  {
   "cell_type": "code",
   "execution_count": null,
   "metadata": {},
   "outputs": [],
   "source": [
    "# CIRC\n",
    "config_triplets = [\n",
    "                    # ['feat_opt', 'n_iter', 200],\n",
    "                    # ['feat_opt', 'lr', 0.00005],\n",
    "                    # ['prior_opt', 'n_iter', 150],\n",
    "                    # ['prior_opt', 'lr', 0.0000005],\n",
    "                    # ['prior_opt', 'noise_amp', 0.1],\n",
    "                    # ['back_forth','n_back_forth', 1],\n",
    "                    # ['back_forth', 'first_func_in_fit', 'feat_opt']\n",
    "                ]\n",
    "\n",
    "\n",
    "\n",
    "trainer_pieclam_circ = Trainer(\n",
    "                model_name='pieclam',\n",
    "                task=None,\n",
    "                device=device,\n",
    "                config_triplets_to_change=config_triplets,\n",
    "                dataset=graph_circ_gaus.clone()\n",
    ")\n",
    "\n",
    "losses_pieclam_circ, acc_test_pieclam_circ, acc_val_pieclam_circ = trainer_pieclam_circ.train(\n",
    "    plot_every=1,\n",
    "    init_feats=True,\n",
    "    init_type='small_gaus',\n",
    "    verbose=False,\n",
    "    verbose_in_funcs=False,\n",
    "    draw_nodes_on_prior=False,\n",
    "    draw_edges=True\n",
    ")\n",
    "\n",
    "del trainer_pieclam_circ.data\n",
    "del trainer_pieclam_circ.clamiter.prior\n"
   ]
  },
  {
   "cell_type": "code",
   "execution_count": null,
   "metadata": {},
   "outputs": [],
   "source": [
    "# THIS BLOCK WILL NOT WORK IF YOU DELETE THE DATA AND MODEL IN THE PREVIOUS BLOCK\n",
    "\n",
    "from utils.plotting import plot_graph_2_feats\n",
    "\n",
    "prior = trainer_pieclam_circ.clamiter.prior\n",
    "lorenz = trainer_pieclam_circ.clamiter.lorenz\n",
    "draw_nodes_on_prior = False\n",
    "graph_cpu = graph_circ_gaus.cpu()\n",
    "community_affiliation_cpu = None\n",
    "\n",
    "\n",
    "draw_edges = True\n",
    "plot_graph_2_feats(trainer_pieclam_circ.data, community_affiliation_cpu, prior, lorenz, draw_nodes_on_prior, draw_edges=draw_edges)"
   ]
  }
 ],
 "metadata": {
  "kernelspec": {
   "display_name": "piegam",
   "language": "python",
   "name": "python3"
  },
  "language_info": {
   "codemirror_mode": {
    "name": "ipython",
    "version": 3
   },
   "file_extension": ".py",
   "mimetype": "text/x-python",
   "name": "python",
   "nbconvert_exporter": "python",
   "pygments_lexer": "ipython3",
   "version": "3.11.5"
  }
 },
 "nbformat": 4,
 "nbformat_minor": 2
}
