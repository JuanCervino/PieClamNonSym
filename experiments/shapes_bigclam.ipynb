{
 "cells": [
  {
   "cell_type": "code",
   "execution_count": null,
   "metadata": {},
   "outputs": [],
   "source": [
    "import torch\n",
    "import matplotlib.pyplot as plt\n",
    "import networkx as nx\n",
    "# local\n",
    "import sys\n",
    "if '..' not in sys.path:\n",
    "    sys.path.insert(0, '..')\n",
    "\n",
    "from datasets.import_dataset import import_dataset\n",
    "from trainer import Trainer\n",
    "from utils.plotting import *\n",
    "import datasets.simulations as sim\n",
    "\n",
    "device = torch.device('cuda' if torch.cuda.is_available() else 'cpu')\n",
    "print(f'device = {device}')\n",
    "\n",
    "\n",
    "%load_ext autoreload\n",
    "%autoreload 2"
   ]
  },
  {
   "cell_type": "markdown",
   "metadata": {},
   "source": [
    "# Exotic Shapes\n"
   ]
  },
  {
   "cell_type": "markdown",
   "metadata": {},
   "source": [
    "## Inner Prod. Space"
   ]
  },
  {
   "cell_type": "code",
   "execution_count": null,
   "metadata": {},
   "outputs": [],
   "source": [
    "\n",
    "\n",
    "#* NEXT ARE DIFFERENT DEFINITIONS FOR 2 COMMUNITY GRAPHS\n",
    "num_samples = 500\n",
    "\n",
    "# SHAPES FROM NF CLASS\n",
    "# todo: import dataset \n",
    "#* two moons\n",
    "graph_two_moons, dist_two_moons = sim.sample_normflows_dist(num_samples, 'TwoMoons')\n",
    "\n",
    "# #* circular gaussian mixture\n",
    "graph_circ_gaus, dist_circ_gaus = sim.sample_normflows_dist(num_samples, 'Circ')\n",
    "\n",
    "#* two gaussians mixture\n",
    "graph_two_chubs, dist_two_chubs = sim.sample_normflows_dist(num_samples, 'ChubGaus')\n",
    "\n",
    "\n",
    "_, axes_moons = plt.subplots(1, 2, figsize=(6, 3))\n",
    "plot_2dgraph(graph_two_moons, lorenz_fig_lims=False, x_fig_lim=[-0.1, 1.1], ax=axes_moons[0], draw_edges=True)\n",
    "# plot_normflows_dist(dist_two_moons,shift=-0.5, scale=5, device=device, x_fig_lim=[-0.1, 1.1], ax=axes_moons[0])\n",
    "plot_normflows_dist(dist_two_moons, lorenz=False , x_fig_lim=[-0.1, 1.1], ax=axes_moons[1])\n",
    "_, axes_circ = plt.subplots(1, 2, figsize=(6, 3))\n",
    "plot_2dgraph(graph_circ_gaus, lorenz_fig_lims=False, x_fig_lim=[-0.1, 1.1], ax=axes_circ[0], draw_edges=True)\n",
    "\n",
    "plot_normflows_dist(dist_circ_gaus,lorenz=False, x_fig_lim=[-0.1, 1.1], ax=axes_circ[1])\n",
    "#todo: make all of the nodes the same color\n",
    "\n",
    "\n",
    "\n",
    "\n",
    "# _, axes_chubs = plt.subplots(1, 2, figsize=(6, 3))\n",
    "# plot_2dgraph(graph_two_chubs, lorenz_fig_lims=False, x_fig_lim=[-0.1, 1.1], ax=axes_chubs[0])\n",
    "# plot_normflows_dist(dist_two_chubs,shift=-0.5, scale=5, device=device, x_fig_lim=[-0.1, 1.1], ax=axes_chubs[0])\n",
    "# plot_normflows_dist(dist_two_chubs,shift=-0.5, scale=5, device=device, x_fig_lim=[-0.1, 1.1], ax=axes_chubs[1])\n",
    "\n",
    "\n",
    "\n",
    "\n"
   ]
  },
  {
   "cell_type": "markdown",
   "metadata": {},
   "source": [
    "### BIGCLAM"
   ]
  },
  {
   "cell_type": "code",
   "execution_count": null,
   "metadata": {},
   "outputs": [],
   "source": [
    "trainer_bigclam_twomoons = Trainer(\n",
    "                model_name='bigclam',\n",
    "                task=None,\n",
    "                device=device,\n",
    "                dataset=graph_two_moons.clone(),\n",
    "                global_configs_dict=False\n",
    ")\n",
    "\n",
    "losses_bigclam_moons, logcut_bigclam_moons, l2_bigclam_moons = trainer_bigclam_twomoons.train(\n",
    "    performance_metric= 'cut_log',\n",
    "    init_feats=True,\n",
    "    init_type='small_gaus',\n",
    "    plot_every=-1,\n",
    "    verbose=False,\n",
    "    draw_edges=False\n",
    ")\n",
    "\n",
    "# del trainer_bigclam_twomoons.data"
   ]
  },
  {
   "cell_type": "markdown",
   "metadata": {},
   "source": [
    "### PCLAM"
   ]
  },
  {
   "cell_type": "markdown",
   "metadata": {},
   "source": [
    "#### Two Moons"
   ]
  },
  {
   "cell_type": "code",
   "execution_count": null,
   "metadata": {},
   "outputs": [],
   "source": [
    "config_triplets = [\n",
    "                    ['feat_opt', 'n_iter', 2000],\n",
    "                    ['feat_opt', 'lr', 0.00005],\n",
    "                    ['prior_opt', 'n_iter', 2000],\n",
    "                    ['prior_opt', 'lr', 0.00005],\n",
    "                    ['prior_opt', 'noise_amp', 0.15],\n",
    "                    ['back_forth','n_back_forth', 5],\n",
    "                    ['back_forth', 'first_func_in_fit', 'fit_prior']\n",
    "                ]\n",
    "\n",
    "\n",
    "\n",
    "trainer_pclam_twomoons = Trainer(\n",
    "                model_name='pclam',\n",
    "                task=None,\n",
    "                device=device,\n",
    "                config_triplets_to_change=config_triplets,\n",
    "                dataset=graph_two_moons.clone()\n",
    ")\n",
    "\n",
    "\n",
    "\n",
    "losses_moons, logcut_moons, l2_moons = trainer_pclam_twomoons.train(\n",
    "    task_params={'d' : 0.2},\n",
    "    plot_every=1,\n",
    "    init_feats=True,\n",
    "    init_type='small_gaus',\n",
    "    verbose=False,\n",
    "    verbose_in_funcs=False,\n",
    "    draw_nodes_on_prior=False\n",
    ")\n",
    "\n",
    "# del trainer_pclam_twomoons.data\n",
    "# del trainer_pclam_twomoons.clamiter.prior.model"
   ]
  },
  {
   "cell_type": "markdown",
   "metadata": {},
   "source": [
    "#### Circle"
   ]
  },
  {
   "cell_type": "markdown",
   "metadata": {},
   "source": [
    "##### BigClam"
   ]
  },
  {
   "cell_type": "code",
   "execution_count": null,
   "metadata": {},
   "outputs": [],
   "source": [
    "trainer_bigclam_circ = Trainer(\n",
    "                model_name='bigclam',\n",
    "                task=None,\n",
    "                device=device,\n",
    "                dataset=graph_circ_gaus.clone()\n",
    ")\n",
    "\n",
    "losses_bigcla_circ, logcut_bigclam_circ, l2_bigclam_circ = trainer_bigclam_circ.train(\n",
    "    plot_every=-1,\n",
    "    init_feats=True,\n",
    "    init_type='small_gaus',\n",
    "    verbose=False,\n",
    "    verbose_in_funcs=False\n",
    ")\n",
    "\n",
    "# del trainer_bigclam_circ.data"
   ]
  },
  {
   "cell_type": "markdown",
   "metadata": {},
   "source": [
    "##### pclam"
   ]
  },
  {
   "cell_type": "code",
   "execution_count": null,
   "metadata": {},
   "outputs": [],
   "source": [
    "# CIRC\n",
    "config_triplets = [\n",
    "                    # ['feat_opt', 'n_iter', 2000],\n",
    "                    # ['feat_opt', 'lr', 0.00005],\n",
    "                    # ['prior_opt', 'n_iter', 2000],\n",
    "                    # ['prior_opt', 'lr', 0.00005],\n",
    "                    # ['back_forth','n_back_forth', 5],\n",
    "                ]\n",
    "\n",
    "trainer_pclam_circ = Trainer(\n",
    "                model_name='pclam',\n",
    "                task=None,\n",
    "                device=device,\n",
    "                config_triplets_to_change=config_triplets,\n",
    "                dataset=graph_circ_gaus.clone()\n",
    ")\n",
    "\n",
    "losses_circ, logcut_circ, l2_circ = trainer_pclam_circ.train(\n",
    "    task_params={'d' : 0.2},\n",
    "    plot_every=5,\n",
    "    init_feats=True,\n",
    "    init_type='small_gaus',\n",
    "    verbose=False,\n",
    "    verbose_in_funcs=False\n",
    ")\n",
    "\n",
    "# del trainer_pclam_circ.data\n",
    "# del trainer_pclam_circ.clamiter.prior.model\n"
   ]
  },
  {
   "cell_type": "code",
   "execution_count": null,
   "metadata": {},
   "outputs": [],
   "source": [
    "trainer_pclam_circ.plot_state()"
   ]
  },
  {
   "cell_type": "code",
   "execution_count": null,
   "metadata": {},
   "outputs": [],
   "source": [
    "plt.scatter(trainer_pclam_circ.data.x[:, 0].cpu(), trainer_pclam_circ.data.x[:, 1].cpu())\n"
   ]
  },
  {
   "cell_type": "code",
   "execution_count": null,
   "metadata": {},
   "outputs": [],
   "source": [
    "plt.scatter(trainer_pclam_twomoons.data.x[:, 0].cpu(), trainer_pclam_twomoons.data.x[:, 1].cpu())"
   ]
  },
  {
   "cell_type": "code",
   "execution_count": null,
   "metadata": {},
   "outputs": [],
   "source": [
    "trainer_pclam_circ.plot_state()"
   ]
  }
 ],
 "metadata": {
  "kernelspec": {
   "display_name": "piegam",
   "language": "python",
   "name": "python3"
  },
  "language_info": {
   "codemirror_mode": {
    "name": "ipython",
    "version": 3
   },
   "file_extension": ".py",
   "mimetype": "text/x-python",
   "name": "python",
   "nbconvert_exporter": "python",
   "pygments_lexer": "ipython3",
   "version": "3.11.5"
  }
 },
 "nbformat": 4,
 "nbformat_minor": 2
}
